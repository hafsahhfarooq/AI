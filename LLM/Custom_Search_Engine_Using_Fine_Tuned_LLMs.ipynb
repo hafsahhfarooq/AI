{
  "nbformat": 4,
  "nbformat_minor": 0,
  "metadata": {
    "colab": {
      "provenance": [],
      "gpuType": "T4"
    },
    "kernelspec": {
      "name": "python3",
      "display_name": "Python 3"
    },
    "language_info": {
      "name": "python"
    },
    "accelerator": "GPU",
    "widgets": {
      "application/vnd.jupyter.widget-state+json": {
        "c54af9a24adb47d190e7cc8ef051c03e": {
          "model_module": "@jupyter-widgets/controls",
          "model_name": "HBoxModel",
          "model_module_version": "1.5.0",
          "state": {
            "_dom_classes": [],
            "_model_module": "@jupyter-widgets/controls",
            "_model_module_version": "1.5.0",
            "_model_name": "HBoxModel",
            "_view_count": null,
            "_view_module": "@jupyter-widgets/controls",
            "_view_module_version": "1.5.0",
            "_view_name": "HBoxView",
            "box_style": "",
            "children": [
              "IPY_MODEL_a1c1cd9cb39443aaba46c75491d66729",
              "IPY_MODEL_9588a4469db54ad78c99928552e9d2ba",
              "IPY_MODEL_b2954323354e4307b823156f3a2b06d9"
            ],
            "layout": "IPY_MODEL_f1161bef8d3b47f9af78a052a3473fa1"
          }
        },
        "a1c1cd9cb39443aaba46c75491d66729": {
          "model_module": "@jupyter-widgets/controls",
          "model_name": "HTMLModel",
          "model_module_version": "1.5.0",
          "state": {
            "_dom_classes": [],
            "_model_module": "@jupyter-widgets/controls",
            "_model_module_version": "1.5.0",
            "_model_name": "HTMLModel",
            "_view_count": null,
            "_view_module": "@jupyter-widgets/controls",
            "_view_module_version": "1.5.0",
            "_view_name": "HTMLView",
            "description": "",
            "description_tooltip": null,
            "layout": "IPY_MODEL_f5d9ce8549be4b3f8e79ae447de6bf86",
            "placeholder": "​",
            "style": "IPY_MODEL_c9c3c9d5bf7c4780987b8ddcef6b0c92",
            "value": "1_Pooling/config.json: 100%"
          }
        },
        "9588a4469db54ad78c99928552e9d2ba": {
          "model_module": "@jupyter-widgets/controls",
          "model_name": "FloatProgressModel",
          "model_module_version": "1.5.0",
          "state": {
            "_dom_classes": [],
            "_model_module": "@jupyter-widgets/controls",
            "_model_module_version": "1.5.0",
            "_model_name": "FloatProgressModel",
            "_view_count": null,
            "_view_module": "@jupyter-widgets/controls",
            "_view_module_version": "1.5.0",
            "_view_name": "ProgressView",
            "bar_style": "success",
            "description": "",
            "description_tooltip": null,
            "layout": "IPY_MODEL_a8daa01ca29e49c1938f5631d72d2e9f",
            "max": 190,
            "min": 0,
            "orientation": "horizontal",
            "style": "IPY_MODEL_8669c895b6fe4d3ca7c2404986b9b315",
            "value": 190
          }
        },
        "b2954323354e4307b823156f3a2b06d9": {
          "model_module": "@jupyter-widgets/controls",
          "model_name": "HTMLModel",
          "model_module_version": "1.5.0",
          "state": {
            "_dom_classes": [],
            "_model_module": "@jupyter-widgets/controls",
            "_model_module_version": "1.5.0",
            "_model_name": "HTMLModel",
            "_view_count": null,
            "_view_module": "@jupyter-widgets/controls",
            "_view_module_version": "1.5.0",
            "_view_name": "HTMLView",
            "description": "",
            "description_tooltip": null,
            "layout": "IPY_MODEL_7d1518ea2f5e48a59be2fc4733a094f4",
            "placeholder": "​",
            "style": "IPY_MODEL_90f195ea060f4d7f829062695137b01c",
            "value": " 190/190 [00:00&lt;00:00, 4.29kB/s]"
          }
        },
        "f1161bef8d3b47f9af78a052a3473fa1": {
          "model_module": "@jupyter-widgets/base",
          "model_name": "LayoutModel",
          "model_module_version": "1.2.0",
          "state": {
            "_model_module": "@jupyter-widgets/base",
            "_model_module_version": "1.2.0",
            "_model_name": "LayoutModel",
            "_view_count": null,
            "_view_module": "@jupyter-widgets/base",
            "_view_module_version": "1.2.0",
            "_view_name": "LayoutView",
            "align_content": null,
            "align_items": null,
            "align_self": null,
            "border": null,
            "bottom": null,
            "display": null,
            "flex": null,
            "flex_flow": null,
            "grid_area": null,
            "grid_auto_columns": null,
            "grid_auto_flow": null,
            "grid_auto_rows": null,
            "grid_column": null,
            "grid_gap": null,
            "grid_row": null,
            "grid_template_areas": null,
            "grid_template_columns": null,
            "grid_template_rows": null,
            "height": null,
            "justify_content": null,
            "justify_items": null,
            "left": null,
            "margin": null,
            "max_height": null,
            "max_width": null,
            "min_height": null,
            "min_width": null,
            "object_fit": null,
            "object_position": null,
            "order": null,
            "overflow": null,
            "overflow_x": null,
            "overflow_y": null,
            "padding": null,
            "right": null,
            "top": null,
            "visibility": null,
            "width": null
          }
        },
        "f5d9ce8549be4b3f8e79ae447de6bf86": {
          "model_module": "@jupyter-widgets/base",
          "model_name": "LayoutModel",
          "model_module_version": "1.2.0",
          "state": {
            "_model_module": "@jupyter-widgets/base",
            "_model_module_version": "1.2.0",
            "_model_name": "LayoutModel",
            "_view_count": null,
            "_view_module": "@jupyter-widgets/base",
            "_view_module_version": "1.2.0",
            "_view_name": "LayoutView",
            "align_content": null,
            "align_items": null,
            "align_self": null,
            "border": null,
            "bottom": null,
            "display": null,
            "flex": null,
            "flex_flow": null,
            "grid_area": null,
            "grid_auto_columns": null,
            "grid_auto_flow": null,
            "grid_auto_rows": null,
            "grid_column": null,
            "grid_gap": null,
            "grid_row": null,
            "grid_template_areas": null,
            "grid_template_columns": null,
            "grid_template_rows": null,
            "height": null,
            "justify_content": null,
            "justify_items": null,
            "left": null,
            "margin": null,
            "max_height": null,
            "max_width": null,
            "min_height": null,
            "min_width": null,
            "object_fit": null,
            "object_position": null,
            "order": null,
            "overflow": null,
            "overflow_x": null,
            "overflow_y": null,
            "padding": null,
            "right": null,
            "top": null,
            "visibility": null,
            "width": null
          }
        },
        "c9c3c9d5bf7c4780987b8ddcef6b0c92": {
          "model_module": "@jupyter-widgets/controls",
          "model_name": "DescriptionStyleModel",
          "model_module_version": "1.5.0",
          "state": {
            "_model_module": "@jupyter-widgets/controls",
            "_model_module_version": "1.5.0",
            "_model_name": "DescriptionStyleModel",
            "_view_count": null,
            "_view_module": "@jupyter-widgets/base",
            "_view_module_version": "1.2.0",
            "_view_name": "StyleView",
            "description_width": ""
          }
        },
        "a8daa01ca29e49c1938f5631d72d2e9f": {
          "model_module": "@jupyter-widgets/base",
          "model_name": "LayoutModel",
          "model_module_version": "1.2.0",
          "state": {
            "_model_module": "@jupyter-widgets/base",
            "_model_module_version": "1.2.0",
            "_model_name": "LayoutModel",
            "_view_count": null,
            "_view_module": "@jupyter-widgets/base",
            "_view_module_version": "1.2.0",
            "_view_name": "LayoutView",
            "align_content": null,
            "align_items": null,
            "align_self": null,
            "border": null,
            "bottom": null,
            "display": null,
            "flex": null,
            "flex_flow": null,
            "grid_area": null,
            "grid_auto_columns": null,
            "grid_auto_flow": null,
            "grid_auto_rows": null,
            "grid_column": null,
            "grid_gap": null,
            "grid_row": null,
            "grid_template_areas": null,
            "grid_template_columns": null,
            "grid_template_rows": null,
            "height": null,
            "justify_content": null,
            "justify_items": null,
            "left": null,
            "margin": null,
            "max_height": null,
            "max_width": null,
            "min_height": null,
            "min_width": null,
            "object_fit": null,
            "object_position": null,
            "order": null,
            "overflow": null,
            "overflow_x": null,
            "overflow_y": null,
            "padding": null,
            "right": null,
            "top": null,
            "visibility": null,
            "width": null
          }
        },
        "8669c895b6fe4d3ca7c2404986b9b315": {
          "model_module": "@jupyter-widgets/controls",
          "model_name": "ProgressStyleModel",
          "model_module_version": "1.5.0",
          "state": {
            "_model_module": "@jupyter-widgets/controls",
            "_model_module_version": "1.5.0",
            "_model_name": "ProgressStyleModel",
            "_view_count": null,
            "_view_module": "@jupyter-widgets/base",
            "_view_module_version": "1.2.0",
            "_view_name": "StyleView",
            "bar_color": null,
            "description_width": ""
          }
        },
        "7d1518ea2f5e48a59be2fc4733a094f4": {
          "model_module": "@jupyter-widgets/base",
          "model_name": "LayoutModel",
          "model_module_version": "1.2.0",
          "state": {
            "_model_module": "@jupyter-widgets/base",
            "_model_module_version": "1.2.0",
            "_model_name": "LayoutModel",
            "_view_count": null,
            "_view_module": "@jupyter-widgets/base",
            "_view_module_version": "1.2.0",
            "_view_name": "LayoutView",
            "align_content": null,
            "align_items": null,
            "align_self": null,
            "border": null,
            "bottom": null,
            "display": null,
            "flex": null,
            "flex_flow": null,
            "grid_area": null,
            "grid_auto_columns": null,
            "grid_auto_flow": null,
            "grid_auto_rows": null,
            "grid_column": null,
            "grid_gap": null,
            "grid_row": null,
            "grid_template_areas": null,
            "grid_template_columns": null,
            "grid_template_rows": null,
            "height": null,
            "justify_content": null,
            "justify_items": null,
            "left": null,
            "margin": null,
            "max_height": null,
            "max_width": null,
            "min_height": null,
            "min_width": null,
            "object_fit": null,
            "object_position": null,
            "order": null,
            "overflow": null,
            "overflow_x": null,
            "overflow_y": null,
            "padding": null,
            "right": null,
            "top": null,
            "visibility": null,
            "width": null
          }
        },
        "90f195ea060f4d7f829062695137b01c": {
          "model_module": "@jupyter-widgets/controls",
          "model_name": "DescriptionStyleModel",
          "model_module_version": "1.5.0",
          "state": {
            "_model_module": "@jupyter-widgets/controls",
            "_model_module_version": "1.5.0",
            "_model_name": "DescriptionStyleModel",
            "_view_count": null,
            "_view_module": "@jupyter-widgets/base",
            "_view_module_version": "1.2.0",
            "_view_name": "StyleView",
            "description_width": ""
          }
        }
      }
    }
  },
  "cells": [
    {
      "cell_type": "code",
      "source": [
        "!pip install PyPDF2"
      ],
      "metadata": {
        "colab": {
          "base_uri": "https://localhost:8080/"
        },
        "id": "7GB3T5q7Jf12",
        "outputId": "7e23f8b8-0c4d-4f7c-e889-1d8201f8ef3b"
      },
      "execution_count": 1,
      "outputs": [
        {
          "output_type": "stream",
          "name": "stdout",
          "text": [
            "Collecting PyPDF2\n",
            "  Downloading pypdf2-3.0.1-py3-none-any.whl.metadata (6.8 kB)\n",
            "Downloading pypdf2-3.0.1-py3-none-any.whl (232 kB)\n",
            "\u001b[2K   \u001b[90m━━━━━━━━━━━━━━━━━━━━━━━━━━━━━━━━━━━━━━━━\u001b[0m \u001b[32m232.6/232.6 kB\u001b[0m \u001b[31m7.0 MB/s\u001b[0m eta \u001b[36m0:00:00\u001b[0m\n",
            "\u001b[?25hInstalling collected packages: PyPDF2\n",
            "Successfully installed PyPDF2-3.0.1\n"
          ]
        }
      ]
    },
    {
      "cell_type": "code",
      "source": [
        "!pip install gpt4all"
      ],
      "metadata": {
        "colab": {
          "base_uri": "https://localhost:8080/"
        },
        "id": "gFuNDpo5L8MC",
        "outputId": "5ca96d6f-bf7c-4906-ef37-f2edaf5392f0"
      },
      "execution_count": 2,
      "outputs": [
        {
          "output_type": "stream",
          "name": "stdout",
          "text": [
            "Collecting gpt4all\n",
            "  Downloading gpt4all-2.8.2-py3-none-manylinux1_x86_64.whl.metadata (4.8 kB)\n",
            "Requirement already satisfied: requests in /usr/local/lib/python3.11/dist-packages (from gpt4all) (2.32.3)\n",
            "Requirement already satisfied: tqdm in /usr/local/lib/python3.11/dist-packages (from gpt4all) (4.67.1)\n",
            "Requirement already satisfied: charset-normalizer<4,>=2 in /usr/local/lib/python3.11/dist-packages (from requests->gpt4all) (3.4.1)\n",
            "Requirement already satisfied: idna<4,>=2.5 in /usr/local/lib/python3.11/dist-packages (from requests->gpt4all) (3.10)\n",
            "Requirement already satisfied: urllib3<3,>=1.21.1 in /usr/local/lib/python3.11/dist-packages (from requests->gpt4all) (2.3.0)\n",
            "Requirement already satisfied: certifi>=2017.4.17 in /usr/local/lib/python3.11/dist-packages (from requests->gpt4all) (2024.12.14)\n",
            "Downloading gpt4all-2.8.2-py3-none-manylinux1_x86_64.whl (121.6 MB)\n",
            "\u001b[2K   \u001b[90m━━━━━━━━━━━━━━━━━━━━━━━━━━━━━━━━━━━━━━━━\u001b[0m \u001b[32m121.6/121.6 MB\u001b[0m \u001b[31m7.7 MB/s\u001b[0m eta \u001b[36m0:00:00\u001b[0m\n",
            "\u001b[?25hInstalling collected packages: gpt4all\n",
            "Successfully installed gpt4all-2.8.2\n"
          ]
        }
      ]
    },
    {
      "cell_type": "code",
      "source": [
        "!pip install gensim spacy transformers sentence-transformers scikit-learn faiss-cpu"
      ],
      "metadata": {
        "colab": {
          "base_uri": "https://localhost:8080/"
        },
        "id": "i662rIjlLBGF",
        "outputId": "86918720-8b34-48c1-f243-76236d573a76"
      },
      "execution_count": 5,
      "outputs": [
        {
          "output_type": "stream",
          "name": "stdout",
          "text": [
            "Requirement already satisfied: gensim in /usr/local/lib/python3.11/dist-packages (4.3.3)\n",
            "Requirement already satisfied: spacy in /usr/local/lib/python3.11/dist-packages (3.7.5)\n",
            "Requirement already satisfied: transformers in /usr/local/lib/python3.11/dist-packages (4.47.1)\n",
            "Requirement already satisfied: sentence-transformers in /usr/local/lib/python3.11/dist-packages (3.3.1)\n",
            "Requirement already satisfied: scikit-learn in /usr/local/lib/python3.11/dist-packages (1.6.1)\n",
            "Requirement already satisfied: faiss-cpu in /usr/local/lib/python3.11/dist-packages (1.10.0)\n",
            "Requirement already satisfied: numpy<2.0,>=1.18.5 in /usr/local/lib/python3.11/dist-packages (from gensim) (1.26.4)\n",
            "Requirement already satisfied: scipy<1.14.0,>=1.7.0 in /usr/local/lib/python3.11/dist-packages (from gensim) (1.13.1)\n",
            "Requirement already satisfied: smart-open>=1.8.1 in /usr/local/lib/python3.11/dist-packages (from gensim) (7.1.0)\n",
            "Requirement already satisfied: spacy-legacy<3.1.0,>=3.0.11 in /usr/local/lib/python3.11/dist-packages (from spacy) (3.0.12)\n",
            "Requirement already satisfied: spacy-loggers<2.0.0,>=1.0.0 in /usr/local/lib/python3.11/dist-packages (from spacy) (1.0.5)\n",
            "Requirement already satisfied: murmurhash<1.1.0,>=0.28.0 in /usr/local/lib/python3.11/dist-packages (from spacy) (1.0.12)\n",
            "Requirement already satisfied: cymem<2.1.0,>=2.0.2 in /usr/local/lib/python3.11/dist-packages (from spacy) (2.0.11)\n",
            "Requirement already satisfied: preshed<3.1.0,>=3.0.2 in /usr/local/lib/python3.11/dist-packages (from spacy) (3.0.9)\n",
            "Requirement already satisfied: thinc<8.3.0,>=8.2.2 in /usr/local/lib/python3.11/dist-packages (from spacy) (8.2.5)\n",
            "Requirement already satisfied: wasabi<1.2.0,>=0.9.1 in /usr/local/lib/python3.11/dist-packages (from spacy) (1.1.3)\n",
            "Requirement already satisfied: srsly<3.0.0,>=2.4.3 in /usr/local/lib/python3.11/dist-packages (from spacy) (2.5.1)\n",
            "Requirement already satisfied: catalogue<2.1.0,>=2.0.6 in /usr/local/lib/python3.11/dist-packages (from spacy) (2.0.10)\n",
            "Requirement already satisfied: weasel<0.5.0,>=0.1.0 in /usr/local/lib/python3.11/dist-packages (from spacy) (0.4.1)\n",
            "Requirement already satisfied: typer<1.0.0,>=0.3.0 in /usr/local/lib/python3.11/dist-packages (from spacy) (0.15.1)\n",
            "Requirement already satisfied: tqdm<5.0.0,>=4.38.0 in /usr/local/lib/python3.11/dist-packages (from spacy) (4.67.1)\n",
            "Requirement already satisfied: requests<3.0.0,>=2.13.0 in /usr/local/lib/python3.11/dist-packages (from spacy) (2.32.3)\n",
            "Requirement already satisfied: pydantic!=1.8,!=1.8.1,<3.0.0,>=1.7.4 in /usr/local/lib/python3.11/dist-packages (from spacy) (2.10.6)\n",
            "Requirement already satisfied: jinja2 in /usr/local/lib/python3.11/dist-packages (from spacy) (3.1.5)\n",
            "Requirement already satisfied: setuptools in /usr/local/lib/python3.11/dist-packages (from spacy) (75.1.0)\n",
            "Requirement already satisfied: packaging>=20.0 in /usr/local/lib/python3.11/dist-packages (from spacy) (24.2)\n",
            "Requirement already satisfied: langcodes<4.0.0,>=3.2.0 in /usr/local/lib/python3.11/dist-packages (from spacy) (3.5.0)\n",
            "Requirement already satisfied: filelock in /usr/local/lib/python3.11/dist-packages (from transformers) (3.17.0)\n",
            "Requirement already satisfied: huggingface-hub<1.0,>=0.24.0 in /usr/local/lib/python3.11/dist-packages (from transformers) (0.27.1)\n",
            "Requirement already satisfied: pyyaml>=5.1 in /usr/local/lib/python3.11/dist-packages (from transformers) (6.0.2)\n",
            "Requirement already satisfied: regex!=2019.12.17 in /usr/local/lib/python3.11/dist-packages (from transformers) (2024.11.6)\n",
            "Requirement already satisfied: tokenizers<0.22,>=0.21 in /usr/local/lib/python3.11/dist-packages (from transformers) (0.21.0)\n",
            "Requirement already satisfied: safetensors>=0.4.1 in /usr/local/lib/python3.11/dist-packages (from transformers) (0.5.2)\n",
            "Requirement already satisfied: torch>=1.11.0 in /usr/local/lib/python3.11/dist-packages (from sentence-transformers) (2.5.1+cu124)\n",
            "Requirement already satisfied: Pillow in /usr/local/lib/python3.11/dist-packages (from sentence-transformers) (11.1.0)\n",
            "Requirement already satisfied: joblib>=1.2.0 in /usr/local/lib/python3.11/dist-packages (from scikit-learn) (1.4.2)\n",
            "Requirement already satisfied: threadpoolctl>=3.1.0 in /usr/local/lib/python3.11/dist-packages (from scikit-learn) (3.5.0)\n",
            "Requirement already satisfied: fsspec>=2023.5.0 in /usr/local/lib/python3.11/dist-packages (from huggingface-hub<1.0,>=0.24.0->transformers) (2024.10.0)\n",
            "Requirement already satisfied: typing-extensions>=3.7.4.3 in /usr/local/lib/python3.11/dist-packages (from huggingface-hub<1.0,>=0.24.0->transformers) (4.12.2)\n",
            "Requirement already satisfied: language-data>=1.2 in /usr/local/lib/python3.11/dist-packages (from langcodes<4.0.0,>=3.2.0->spacy) (1.3.0)\n",
            "Requirement already satisfied: annotated-types>=0.6.0 in /usr/local/lib/python3.11/dist-packages (from pydantic!=1.8,!=1.8.1,<3.0.0,>=1.7.4->spacy) (0.7.0)\n",
            "Requirement already satisfied: pydantic-core==2.27.2 in /usr/local/lib/python3.11/dist-packages (from pydantic!=1.8,!=1.8.1,<3.0.0,>=1.7.4->spacy) (2.27.2)\n",
            "Requirement already satisfied: charset-normalizer<4,>=2 in /usr/local/lib/python3.11/dist-packages (from requests<3.0.0,>=2.13.0->spacy) (3.4.1)\n",
            "Requirement already satisfied: idna<4,>=2.5 in /usr/local/lib/python3.11/dist-packages (from requests<3.0.0,>=2.13.0->spacy) (3.10)\n",
            "Requirement already satisfied: urllib3<3,>=1.21.1 in /usr/local/lib/python3.11/dist-packages (from requests<3.0.0,>=2.13.0->spacy) (2.3.0)\n",
            "Requirement already satisfied: certifi>=2017.4.17 in /usr/local/lib/python3.11/dist-packages (from requests<3.0.0,>=2.13.0->spacy) (2024.12.14)\n",
            "Requirement already satisfied: wrapt in /usr/local/lib/python3.11/dist-packages (from smart-open>=1.8.1->gensim) (1.17.2)\n",
            "Requirement already satisfied: blis<0.8.0,>=0.7.8 in /usr/local/lib/python3.11/dist-packages (from thinc<8.3.0,>=8.2.2->spacy) (0.7.11)\n",
            "Requirement already satisfied: confection<1.0.0,>=0.0.1 in /usr/local/lib/python3.11/dist-packages (from thinc<8.3.0,>=8.2.2->spacy) (0.1.5)\n",
            "Requirement already satisfied: networkx in /usr/local/lib/python3.11/dist-packages (from torch>=1.11.0->sentence-transformers) (3.4.2)\n",
            "Requirement already satisfied: nvidia-cuda-nvrtc-cu12==12.4.127 in /usr/local/lib/python3.11/dist-packages (from torch>=1.11.0->sentence-transformers) (12.4.127)\n",
            "Requirement already satisfied: nvidia-cuda-runtime-cu12==12.4.127 in /usr/local/lib/python3.11/dist-packages (from torch>=1.11.0->sentence-transformers) (12.4.127)\n",
            "Requirement already satisfied: nvidia-cuda-cupti-cu12==12.4.127 in /usr/local/lib/python3.11/dist-packages (from torch>=1.11.0->sentence-transformers) (12.4.127)\n",
            "Requirement already satisfied: nvidia-cudnn-cu12==9.1.0.70 in /usr/local/lib/python3.11/dist-packages (from torch>=1.11.0->sentence-transformers) (9.1.0.70)\n",
            "Requirement already satisfied: nvidia-cublas-cu12==12.4.5.8 in /usr/local/lib/python3.11/dist-packages (from torch>=1.11.0->sentence-transformers) (12.4.5.8)\n",
            "Requirement already satisfied: nvidia-cufft-cu12==11.2.1.3 in /usr/local/lib/python3.11/dist-packages (from torch>=1.11.0->sentence-transformers) (11.2.1.3)\n",
            "Requirement already satisfied: nvidia-curand-cu12==10.3.5.147 in /usr/local/lib/python3.11/dist-packages (from torch>=1.11.0->sentence-transformers) (10.3.5.147)\n",
            "Requirement already satisfied: nvidia-cusolver-cu12==11.6.1.9 in /usr/local/lib/python3.11/dist-packages (from torch>=1.11.0->sentence-transformers) (11.6.1.9)\n",
            "Requirement already satisfied: nvidia-cusparse-cu12==12.3.1.170 in /usr/local/lib/python3.11/dist-packages (from torch>=1.11.0->sentence-transformers) (12.3.1.170)\n",
            "Requirement already satisfied: nvidia-nccl-cu12==2.21.5 in /usr/local/lib/python3.11/dist-packages (from torch>=1.11.0->sentence-transformers) (2.21.5)\n",
            "Requirement already satisfied: nvidia-nvtx-cu12==12.4.127 in /usr/local/lib/python3.11/dist-packages (from torch>=1.11.0->sentence-transformers) (12.4.127)\n",
            "Requirement already satisfied: nvidia-nvjitlink-cu12==12.4.127 in /usr/local/lib/python3.11/dist-packages (from torch>=1.11.0->sentence-transformers) (12.4.127)\n",
            "Requirement already satisfied: triton==3.1.0 in /usr/local/lib/python3.11/dist-packages (from torch>=1.11.0->sentence-transformers) (3.1.0)\n",
            "Requirement already satisfied: sympy==1.13.1 in /usr/local/lib/python3.11/dist-packages (from torch>=1.11.0->sentence-transformers) (1.13.1)\n",
            "Requirement already satisfied: mpmath<1.4,>=1.1.0 in /usr/local/lib/python3.11/dist-packages (from sympy==1.13.1->torch>=1.11.0->sentence-transformers) (1.3.0)\n",
            "Requirement already satisfied: click>=8.0.0 in /usr/local/lib/python3.11/dist-packages (from typer<1.0.0,>=0.3.0->spacy) (8.1.8)\n",
            "Requirement already satisfied: shellingham>=1.3.0 in /usr/local/lib/python3.11/dist-packages (from typer<1.0.0,>=0.3.0->spacy) (1.5.4)\n",
            "Requirement already satisfied: rich>=10.11.0 in /usr/local/lib/python3.11/dist-packages (from typer<1.0.0,>=0.3.0->spacy) (13.9.4)\n",
            "Requirement already satisfied: cloudpathlib<1.0.0,>=0.7.0 in /usr/local/lib/python3.11/dist-packages (from weasel<0.5.0,>=0.1.0->spacy) (0.20.0)\n",
            "Requirement already satisfied: MarkupSafe>=2.0 in /usr/local/lib/python3.11/dist-packages (from jinja2->spacy) (3.0.2)\n",
            "Requirement already satisfied: marisa-trie>=1.1.0 in /usr/local/lib/python3.11/dist-packages (from language-data>=1.2->langcodes<4.0.0,>=3.2.0->spacy) (1.2.1)\n",
            "Requirement already satisfied: markdown-it-py>=2.2.0 in /usr/local/lib/python3.11/dist-packages (from rich>=10.11.0->typer<1.0.0,>=0.3.0->spacy) (3.0.0)\n",
            "Requirement already satisfied: pygments<3.0.0,>=2.13.0 in /usr/local/lib/python3.11/dist-packages (from rich>=10.11.0->typer<1.0.0,>=0.3.0->spacy) (2.18.0)\n",
            "Requirement already satisfied: mdurl~=0.1 in /usr/local/lib/python3.11/dist-packages (from markdown-it-py>=2.2.0->rich>=10.11.0->typer<1.0.0,>=0.3.0->spacy) (0.1.2)\n"
          ]
        }
      ]
    },
    {
      "cell_type": "code",
      "execution_count": 6,
      "metadata": {
        "colab": {
          "base_uri": "https://localhost:8080/",
          "height": 138,
          "referenced_widgets": [
            "c54af9a24adb47d190e7cc8ef051c03e",
            "a1c1cd9cb39443aaba46c75491d66729",
            "9588a4469db54ad78c99928552e9d2ba",
            "b2954323354e4307b823156f3a2b06d9",
            "f1161bef8d3b47f9af78a052a3473fa1",
            "f5d9ce8549be4b3f8e79ae447de6bf86",
            "c9c3c9d5bf7c4780987b8ddcef6b0c92",
            "a8daa01ca29e49c1938f5631d72d2e9f",
            "8669c895b6fe4d3ca7c2404986b9b315",
            "7d1518ea2f5e48a59be2fc4733a094f4",
            "90f195ea060f4d7f829062695137b01c"
          ]
        },
        "id": "dPXXWDAyFN7n",
        "outputId": "d13df22d-c6b6-4b29-c074-6c69d986d045"
      },
      "outputs": [
        {
          "output_type": "display_data",
          "data": {
            "text/plain": [
              "1_Pooling/config.json:   0%|          | 0.00/190 [00:00<?, ?B/s]"
            ],
            "application/vnd.jupyter.widget-view+json": {
              "version_major": 2,
              "version_minor": 0,
              "model_id": "c54af9a24adb47d190e7cc8ef051c03e"
            }
          },
          "metadata": {}
        },
        {
          "output_type": "stream",
          "name": "stderr",
          "text": [
            "/usr/local/lib/python3.11/dist-packages/PyPDF2/_cmap.py:142: PdfReadWarning: Advanced encoding /UniGB-UCS2-H not implemented yet\n",
            "  warnings.warn(\n"
          ]
        },
        {
          "output_type": "stream",
          "name": "stdout",
          "text": [
            "Loaded 4 documents from PDFs.\n",
            "Embeddings shape: torch.Size([4, 384])\n"
          ]
        }
      ],
      "source": [
        "from sentence_transformers import SentenceTransformer\n",
        "from PyPDF2 import PdfReader\n",
        "import torch\n",
        "\n",
        "# Load a pre-trained or fine-tuned embedding model\n",
        "model = SentenceTransformer('all-MiniLM-L6-v2')  # Replace with your fine-tuned model if needed\n",
        "\n",
        "# Preprocessing function to clean text\n",
        "def preprocess_document(text):\n",
        "    # Remove extra spaces, newlines, and handle encoding issues\n",
        "    text = text.replace('\\n', ' ').strip()\n",
        "    return ' '.join(text.split())  # Normalize whitespace\n",
        "\n",
        "# Function to read individual PDFs and add them to the corpus\n",
        "def load_pdf_documents(pdf_paths):\n",
        "    corpus = []\n",
        "    for pdf_path in pdf_paths:\n",
        "        reader = PdfReader(pdf_path)\n",
        "        content = \"\"\n",
        "        for page in reader.pages:\n",
        "            if page.extract_text():\n",
        "                content += page.extract_text()\n",
        "        corpus.append(preprocess_document(content))\n",
        "    return corpus\n",
        "\n",
        "# List your PDF file paths\n",
        "pdf_paths = [\n",
        "    \"/content/drive/MyDrive/Colab Notebooks/PaitentVitalMonitor.pdf\",\n",
        "    \"/content/drive/MyDrive/Colab Notebooks/Machine Learning Enabled Vital Sign Monitoring System.pdf\",\n",
        "    \"/content/drive/MyDrive/Colab Notebooks/Real_Time_Monitoring_of_Human_Body_Vital_Signs_usi.pdf\",\n",
        "    \"/content/drive/MyDrive/Colab Notebooks/pulse_bp_respi_.pdf\"\n",
        "]\n",
        "\n",
        "# Load and preprocess the PDFs\n",
        "corpus = load_pdf_documents(pdf_paths)\n",
        "print(f\"Loaded {len(corpus)} documents from PDFs.\")\n",
        "\n",
        "# Generate embeddings\n",
        "if corpus:  # Check if corpus is not empty\n",
        "    document_embeddings = model.encode(corpus, convert_to_tensor=True)\n",
        "    print(\"Embeddings shape:\", document_embeddings.shape)\n",
        "else:\n",
        "    print(\"No valid content was loaded from the PDFs.\")\n"
      ]
    },
    {
      "cell_type": "code",
      "source": [
        "import faiss\n",
        "import numpy as np\n",
        "\n",
        "# Convert embeddings to numpy array\n",
        "document_embeddings_np = document_embeddings.cpu().detach().numpy()\n",
        "\n",
        "# Create a FAISS index\n",
        "dimension = document_embeddings_np.shape[1]  # Dimensionality of the embeddings\n",
        "index = faiss.IndexFlatL2(dimension)  # L2 distance (Euclidean)\n",
        "index.add(document_embeddings_np)  # Add document embeddings to the index\n",
        "\n",
        "print(\"Number of documents in index:\", index.ntotal)\n"
      ],
      "metadata": {
        "colab": {
          "base_uri": "https://localhost:8080/"
        },
        "id": "mylxipbjJ4h8",
        "outputId": "de1dbaf7-016d-4895-d253-29578863681a"
      },
      "execution_count": 7,
      "outputs": [
        {
          "output_type": "stream",
          "name": "stdout",
          "text": [
            "Number of documents in index: 4\n"
          ]
        }
      ]
    },
    {
      "cell_type": "code",
      "source": [
        "# Example user query\n",
        "query = \"How to monitor human vital signs in real time?\"\n",
        "query_embedding = model.encode([query])\n",
        "\n",
        "# Search for the top 3 most similar documents\n",
        "k = 3\n",
        "distances, indices = index.search(query_embedding, k)\n",
        "\n",
        "print(\"Top matches:\")\n",
        "for i, idx in enumerate(indices[0]):\n",
        "    print(f\"{i + 1}: {corpus[idx]} (Distance: {distances[0][i]})\")\n"
      ],
      "metadata": {
        "colab": {
          "base_uri": "https://localhost:8080/"
        },
        "id": "t1FF-8IXLHRO",
        "outputId": "dee7fa8e-7de3-46b0-c785-8f9336a6e7e7"
      },
      "execution_count": 8,
      "outputs": [
        {
          "output_type": "stream",
          "name": "stdout",
          "text": [
            "Top matches:\n",
            "1: (IJACSA) International Journal of Advanced Computer Science and Applications, Vol. 7, No. 10, 2016 210 | P a g e www.ijacsa.thesai.org Real Time Monitoring of Human Body Vital Signs using Bluetooth and WLAN Najeed Ahmed Khan Computer Science & IT Department NED University of Engineering & Technology Karachi, Pakistan M. Ajmal Sawand Department of Computer Science Institute of Business Administration Sukkur , Pakistan Marium Hai Electronic Engineering Department NED University of Engineering & Technology Karachi, Pakistan Arwa Khuzema, Mehak Tariq Electronic Engineering Department NED University of Engineering & Technology Karachi, Pakistan Abstract —The technology of telemedicine is emerging and advancing day by day, it is capable of taking the field of healthcare to a whole new level of personalization. A person can keep a c lose check on his/her health's critical signs and can receive suitable feedback if required, - to help maintain the best of health status with the help of Wireless Body Area Network (WBAN) concept. The sensor nodes can wirelessly commu nicate with any smart phone through an Android application to continuously monitor and have complete access to the medical data of the patient. Moreover it also aims to maintain an efficient electronic medical record of the person. Moreover , the consultant and the c aretaker of the patient can have this important information remotely through an internet connection and provide with significant advi ce which encapsulates the term - smart first aid technology . In the proposed framework miniaturized sensors are worn on the body and non -intrusively monitor a person’s physiological state. The body vital signs (e.g.: heart rate, temperature etc.) are recorded through the sensor nodes and transmit to the smart phone via Bluetooth, where the data of vital signs is stored and will further transmitted to remote locations if needed. Keywords —Telemedicine; smartphone; Vital signs; remote locations; photoplethysmography ; e-health ; medical telemetry I. INTRODUCTION The global cause for death are cardiovascular disease which are increasing day by day, The death statistics are 17.3 million deaths per year and if this is the situation it is expected to increase to reach to 23.6 million by the year 2 030 [1]. For improving and avoiding the death risks a contribution to the solution is made. That is an easy access, comfortable and regardless of the hardware sensors should be small, non- invasive method . The work on ―WBAN‖ (wireless body area network) is attempted which supports mobility, data encryption, and authentication. Significant advances in science and technology such as basic developments emerging in the fields of micro/nanotechnology, wireless communication, information technology, and biomedica l sciences during the past 10 -15 years has brought a clear transformation in the field of medical telemetry [2]. Medical telemetry introduces a new level of personalization, and helps an individual to have a healthy status of living . For maintaining and ar ranging high efficient connectivity and processing large data set technology is continuously evolving [3]. This paper is targeted to achieve a practical and affordable health care by allowing an individual (cardiac patients, athletes, sportsmen) to keep a regular check on his cardiac functioning and in any uncertain conditions ; the persons (caretakers , doctors , sports instructors) can provide instant help or advice to be safe from any major health issues. Selection of sensor nodes is the challenging part due to the accuracy and compatibility issues. For measuring the heart rate (beats per minute) of a person , technique of photoplethysmography is used. The technique of photoplethysmography uses Infra -red LEDs (light emitting diodes) and photo detector to measure the blood volume. The sensor should be placed in those areas of body where the blood i s having a higher concentration (e.g. finger tips, ear lobes etc.) [4]. Fig.1 shows the principle of measuring heart rate of a person using technique of photopl ethysmography . Fig. 1. Principle of photoplethysmography [5]. Contain an infrared Light detector and IR LED, used to record pulse rate The detection of temperature can be done in two ways either through skin or through mouth. The sensor is used to detect the temperature th rough skin as it is the more pre cise way of measuring temperature in medical sciences . If the body temperature is detected to low than a normal threshold value, it is the sign of illness or if the temperature reaches to 104 F, it is the threshold point to check body temperature variation . II. LITERATURE REVIEW In present days the world is endorsing an increasing pressure on quality and quantity of healthcare due to the increase of aging populatio n, chronic diseases, and health consciousness of people [6]. People put more attention in (IJACSA) International Journal of Advanced Computer Science and Applications, Vol. 7, No. 10, 2016 211 | P a g e www.ijacsa.thesai.org prevention and early risk detection. The proposed model is built with the aim of providing early detection of body vital signs based on the concept of Wireless Body A rea Network (WBAN ). In recent years large amount of work on WBAN has been done in different areas of world but th ey have certain short comings. The concept of WBAN was first presented by T. G. Zimmerm an in an article from 1996, he gave these body networks the name wireless personal area network (WPAN) from the beginning [7]. Later on PAN (personal area network) was transformed in to WBAN (wireless body area network) by the accumulation of wireless data transmission devices [8] (Bluetooth, ZigBee etc.). The increasing and continuous demand of sufficient resources placed on the medical society, increasing costs of in - patient care, and a deficit of out -patient surveillance was thoroughly described in a research paper by the scholars of the University of Twente [9]. The author of this paper has defined \"extra -BAN communication\" (EBAN) as communication between a BAN and other network s. IEEE 802 has established a Task Group called IEEE 802.15.6 in November, 2007 for the standardization of BAN [10]. The purpose of t he group was to establish a communication standard optimized for low power, high reliabilit y application for BANs . In 2009, Young Dong Lee [11] design ed a system for cardio vascular patients which measures electrocardiogram (ECG) and acceleration signals . He used smart shirt that can be worn easily and transmit signals using MSBN ( mobile body sensor network ). The shirt mainly consists of sensors for continuous monitoring the health data and conductive fabrics to get the body signal as electrodes . There are important limitations observed for wider acceptance of the systems build up till now such as: cumbersome wires between sensors and a processing unit, lack of system integration of individual sensors, interference on a wireless communication cha nnel shared by multiple device and unavailability of proper su pport for organizing huge data [12]. An interesting solution of Mobi -Health, a BSN (body sensor network) with EBAN (Ethernet body area network) connectivity to a 2.5/3G networks to provide out - patient monitoring of patients vital signs has been reported recently as well [13]. During the last few years there has been a significant increase in the number of various wearable health monitoring device s [14], ranging fr om simple pulse monitors, activity monitors and portable Holter monitors1 to sophisticated and expensive implantable sensors . Traditionally, personal medical monitoring systems [10], such as Holter monitors, have been used only to collect data. Systems with multiple sensors for physical rehabilitation often feature unw ieldy wires between the sensors and the monitoring system [15]. These wires may limit the patient's ac tivity and level of comfort and thus negatively i nfluence the measured 1 http://www.polarusa.com results. Recent technology advances in integration and miniaturization of physical sensors, embedded microcontrollers and radio interfaces on a single chip; wireless networking; and micro -fabrication have enabled a new generation of wireless sensor network s suitable for many applications [12]. The idea of WBAN consisting of inexpensive, light weight and miniaturized sensors can provide long -term, unobtrusive health monitoring with continuous feedback to the user about the current health status and real -time or near real -time updates of the patient’s medical records. WBAN promises a revolution in medical research through data mining of all gathered information. The large amount of collected physiological data will allow quantitative analysis of various condit ions and patterns [16]. Researchers will be able to quantify the contribution of each parameter to a given condition and explore synergy between different parameters, if an adequate number of patients is studied in this manner [12]. In this paper we used the basic WBAN architecture, non - invasive techniques of heart rate and temperature detection. The paper also details the hardware and software platforms used for the monitoring of body vital signs. III. MATERIAL AND METHODS A. Objective of the proposed work The k ey objective of the proposed model is to provide cardiac patients with such electronic device which can continuously monitor their heart functionality and keep medical log history that is timely updated. In case of any alarming situations notifications in the form of messages and emails will be generated and sent to relative to take care of the patient. Along with relatives, concerned doctors will also be notified with patient’s condition so that instant help can be provided. Another main focus is to provid e ambulance service by sending position of the patient to ambulance station using Global Positioning System (GPS) in case of emergency.  Wireless Body Area Network (WBAN) implemented in the proposed model consists of the following steps: Combination of sensor s for detecting physiological parameters.  The second level encompasses Android based Smart phone device which is the bus station and hold s the key position in the proposed model .  The third level and the final step of the proposed model is a wireless network (caregivers, relatives, doctors ) which aims to provide feedback and relat ed first aid services remotely. Each level is a complex sub -system in itself requiring equal att ention for assuring efficiency. Fig. 2 shows the block diagram of the proposed architecture of the model and flow of data transfer . (IJACSA) International Journal of Advanced Computer Science and Applications, Vol. 7, No. 10, 2016 212 | P a g e www.ijacsa.thesai.org Fig. 2. System architecture of the proposed approach consists of sensors and the micro contro ller along with the smart phone The proposed architecture of the model is a composite of hardware part and the softw are part. The hardware part consists of s ensors (Plus rate sensor SEN -11574 & Temperature sensor LM -35) and a micro controller (Arduino UNO) along with the smart phone (android device) , whereas the programming for controller and an android app contribute towards the software aspect of the project. Fig. 3 shows t he proposed methodology of the proposed model. Fig. 3. Work flow of the proposed approach B. Proposed technique for the detection of pulse rate and temperature PULSE RATE DETECTION Photoplethysmography is a technique used nowadays for monitoring patient’s pulse rate. The sensor used for this task is pulse sensor (SEN -11574) which is very small in size and can be worn or wrapped around the index finger or o n ear lobe. This sensor module consists of light source photo detector and infra -red LEDs (Light emitting diodes) . The idea behind the concept is the optical detec tion of changes in the blood volume. Changes in light intensity are used to check the changes in volume level of blood which is very helpful in cardio vascular systems. Output voltages from this sensor module during the cardiac cycles will be converted into beats per minute through micro controller board (Arduino UNO) [4]. Fig. 4. Pulse rate sensor SEN -11574 TEMPERATURE DETECTION Integrated circuit (IC) LM35 is used as a temperature measuring device. The IC is able to provide analog voltage s that are proportional to temperature in Celsius ( °C.). The analog voltages are converted into digital values (tempe rature readings ) through a microcontroller platform (Arduino UNO). LM35 is a three pin IC in which first and last pins are for supply and ground respectively whereas the middle one is for output. The following mathematical equation is used to convert output voltage of LM35 (temperature sensor) into temperature in °C (Celsius scale) . Temperature (°C) =Vout * (100 °C/V) Fig. 5. Temperature sensor LM -35 DATA PROCESSING Arduino UNO is a microcontroller board which is used here to read analog data from all the sensors and convert that data in to digital form using mathematical algorithms. The (IJACSA) International Journal of Advanced Computer Science and Applications, Vol. 7, No. 10, 2016 213 | P a g e www.ijacsa.thesai.org micro -controller board will also control the series of sensors and sequence of their functioning; in a way that data from heart rate sensor is continuously re ad by the controller board and when it identifies a ny abnormal value of heart rate based on predefined threshold values, it will start reading data from other sensors too and transfer that data into the smart phone application through Bluetooth chip which is connected with this board. DATA TRANSMISSION Reliable communication is utmost important for health monitoring systems. Bluetooth technology is used for the transmission of data from controller board to bus station (smart phone). HC-05 module is an easy to use Bluetooth SPP (Serial Port Protocol) module, designed for transparent wireless serial connection setup. The module is compatible with micro -controller board (Arduino UNO) and can easily transfer data at the baud rate of 57600 [17]. Fig. 6 shows the connection between micro -controller board and Bluetooth. Smart android device in this project act as a personal server for the patient which collects the data of sensor nodes from Bluetooth and transmits to remote locations via internet or GSM services and also receives the feedback. This application is a s ignificant portion of proposed model . Fig. 6. The circuit diagram s hows connectivity between Arduino Board and Bluetooth module IV. DESIGNING AND DEVELOPMENT OF SOFTWARE APPLICATION We have chosen Android studio IDE (version 1.0 ) for application developing platform which was launche d by Google in December 2014 . It is specifically designed for android development based on the JetBrains and IntelliJ IDEA software and is a successor to Eclipse Android Development Tools (ADT) as Google’s primary IDE for android application development [18]. The d evelopment of the proposed application on android involves the following steps:  Creating the Project files  Creating the GUI ( .XML) & JAVA files  Bluetooth connectivity  Running the application on virtual machine  Running the appli cation on actual android device [18] . GRAPHICAL USER INTERFACE (GUI) OF APPLICATION Every screen that we see on an android smart -phone is called an activity . A unique name is given to every activity present in an android application called as activity name . Each activity comprises of two files i.e. Layout file (.XML) and the JAVA file (.java). Application in the proposed model comprises of sever al different activities. Fig. 7 shows t he layout of some of the designed activitie s. (a) (b) (c) (d) Fig. 7. Screen shots of some activities of Android Application . (a) shows the front end display of application which rests for 5 seconds before the app starts. (b) Shows the signIn activity of application. User must need to provide user Id and password to get access to the application in order to preserve privacy of the pa tient.(c) shows the registration form for creating account. (d) shows the menu screen of a pplication through which the user can access the available features of application INTENTS Intents are basically the messaging objects used for requesting an action from other app contents i.e. calling an activity from other activity. It is communication link between different contents of an application. Fig. 8 shows the methodology followed by intents to call an activity from another one. Fig. 8. Intents Methodology – responsible for the messaging objects used for requesting an action from other app contents (IJACSA) International Journal of Advanced Computer Science and Applications, Vol. 7, No. 10, 2016 214 | P a g e www.ijacsa.thesai.org V. IMPLEMENTATION AND TESTING Optical technologies are well suited for non -invasive monitoring of skin blood pulsation . Radiation of the red to near infrared spectral region penetrates several millimeter under the skin surface. Skin blood pumping and transport dynamics can be monitored at different body location (e.g. fingertip, earlobe, and forehead) with relatively simple and convenient PPG contact probes . Reflection PPG method uses the back scattered Optical signals for analysis of skin blood volume pulsation [13]. In the transmission method, an optical signal change according to its absorption at the pulsation as oxygenated blood allows red wavelength more and deoxy genated blood allows infrared wavelength. It employs the principle that oxygenat ed blood is bright red w hereas reduced or deoxygenated blood is dark red so combinati on of red and near infrared LED s and photo sensors can be used to monitor the color of bloo d [13].The output signal of SEN - 11574 is an analog fluctuation in voltage as shown in fig. 9. The depiction of the pulse wave is called as Photoplethysmogram (PPG). It is the function of light intensity. When the hear t pumps blood through the body; with every beat there is a pulse that travels along all arteries. A rapid upward rise in signal value occurs as the pulse wave passes under the sensor, then the signal falls bac k down towards the normal point [19]. 1) SYSTOLE: It is the con traction period of the h eart in which the heart pumps blood into all parts of the body through arteries. 2) DIASTOLE: It is the relaxation period of the heart in which heart collects blood from all body parts through veins. The systolic peaks shown in fig. 9 are counted for the period of 60 seconds to compute the number of beats happened in one minute. Fig. 9. Model of PPG (photoplethysmography) waveform [21] The output wave form of SEN -11574 (pulse sensor) is recorded through oscilloscope. Fig. 10 shows the images of PPG (photoplethysmog raphy) waveforms of two patients . (a) (b) Fig. 10. Photoplethysmography output wave form of SEN -11574 sensor recorded for the patient 1 and patient 2 respectively in figure (a) and (b ) Interfacing of sensors with android applicatio n via Bluetooth is carried out by connecting micro -controller board (Arduino UNO). Bluetooth module and smart phone in proper order.5 volts supply is needed to switch on the micro - controller board. Batteries op erating at 5 volts can be used for this purpose. Once the circuit is on, it starts monitoring the data of patient’s vital signs and displaying it on the mobile application by transferring it t hrough Bluetooth module. Fig. 10 a and b shows the interfacing o f sensor nodes and mobile application. (a) (b) Fig. 11. Interfacing of sensor nodes with android application Application after displaying the data extracted from sensor nodes; stores it and send it to remote locations via internet and GSM (global system for mobile communication) services. It also generates alert messages to the registered consultants and caretakers in case of any alarming situation. It also aims to send location of a patient to ambulance stations using GPS (global positioning system) services so that ambulance can reach the patient as soon as possible in order to provide first aid services to the patient. The proposed project is simple and reliable for meas uring body vital sig ns and aims to bring vigorous and rapid change in the field of medical telemetry . (IJACSA) International Journal of Advanced Computer Science and Applications, Vol. 7, No. 10, 2016 215 | P a g e www.ijacsa.thesai.org TABLE I. STATISTICS OF RECORDED DATA FOR DIFFERENT PEOPLE THROUGH THE DEVELOPED MODEL USING PULSE SENSOR (SEN -11574) AND BY THE AUTOMATIC MACHINE AVAILABLE FOR BLOOD PRESSURE AND HEART RATE MEASUREMENTS . THE DATA RECORDED THROUGH THE AUTOMATIC MACHINE CONSIDERED AS GROUND TRUTH PATIENTS AGE GENDER BEATS PER MINUTES Name Years Male / Female Proposed model Pulse Sensor(SEN -11574) Ground Trut h (Omron M10 -IT Upper Arm BP and heart -rate Monitor Person 1 22 Female 92 90 Person 2 22 Female 84 86 Person 3 55 Male 73 72 Person 4 35 Male 67 65 Person 5 16 Female 82 85 Person 6 19 Female 85 82 Person 7 22 Female 82 82 Person 8 20 Male 78 80 Person 9 22 Male 82 82.5 Person 10 40 Female 74 75 Person 11 63 Male 90 92 Person 12 8 Male 82 85 Table 1 shows the recorded data (beats per minute) of 12 differe nt people taken from the developed model and by the automatic machine available for blood pressure and heart rate measurements . The statistics of these numerical valu es is graphical shows in fig. 12. Graph in fig. 12 is drawn to check the fidelity . The graph shows that the readings obtained from the test model (Red color) are in correlation with the readings obtained from an automatic blood pressure and heart rate measuring device (Blue color) . Fig. 12. Graph showing corrlation between the readings of test model and Omron M10 -IT Upper Arm BP and he art-rate Monitor (ground truth) VI. CONTRIBUTIONS The proposed model contributes towards the telemedicine health domain by raising the standards of health care and patient monitoring. It has a great potential in providing the society with cost effective alternative to rehabilitation of health care. It also helps the military personnel, sports persons (athletes, swimmers etc.) in keeping timely record of their health conditions. It aims to reduce sudden death risk and time saving environment to doctors, caretakers and patients as well by getting timely information about the patients and also able to provide timely suggestion to them . VII. CONCLUSION Wireless Body Area Network (WBAN) proves to be a milestone in the field of wearable health monitoring providing with the services of cost effective, unobtrusive and continuous monitoring of an individual during his daily activities. As the key objective is to reduce the sudden death risks which are caused by abnormalities in vital signs through ambulatory monitoring , the prop osed model has potential to offer a wide range of benefits to patients’ medical personnel, and society through continuous monitoring in the ambulatory setting . It aims to provide a great benefit to patients, physicians and society by wirelessly transmitting data of vital signs of patients to remote locations so that they will be provided with first aid an d medication at the earliest in case of emergency situations. By record ing the daily readings of patient’s heart activity and temperature variations , it helps in keeping track of every major and minor details of patient’s health. The proposed model of WBAN has a great potential in providing the society with reliable and secured solutions of health care and medical problems . In future WBAN designs can be improved for providing miniaturization, human friendly devices with more power and cost effectivenes s. To advance this technology more a greater (IJACSA) International Journal of Advanced Computer Science and Applications, Vol. 7, No. 10, 2016 216 | P a g e www.ijacsa.thesai.org attention is required on portabi lity and affordability of the sensors. To achieve ubiquitous health monitoring challenges of system design, personalization, power sources and application –specific protocols need to be resolved. REFERENCES [1] Subcommittee, A.S.C.a.S.S., Heart disease and stroke statistics., 2014 December. [2] Sima Ajami , F.T., Features and application of wearable biosensors in medical care. Journal of Research in Medical Sciences, December 2015: p. 1208 –1215. [3] Toshiyo Tamura , Y.M., Masaki Sekine , Masaki Yoshida, Wearable Photoplethysmographic Sensors —Past and Present. Electronics 3, 2014 April. Vol. 3(2): p. 282. [4] Keith -Hynes, P.M., Benton; Robert, Antoine, A Smartphone -Based System for Real -Time Control of Blood Glucose. Electronics 3, 2014 November. no 4. [5] M.K.Chaithanya , K.V.K.K., Avireni Srinivasulu, Blood Pressure Measurement and Data Storing Using Volume Compensation Method. IEEE, 2014 September. [6] Abderrahim BOUROUIS, M.F., Abdelhamid UBIQUITOUS MOBILE HEALTH MONITORING SYSTEM FOR ELDERLY (UMHMSE ). International Journal of Computer Science & Information Technology 2011 June. Vol 3, No 3. [7] Zimmerman, T.G., Personal Area Networks: Near -field intrabody communication. IBM Systems Journal, 1996. Volume 35(Issue 3 -4): p. 609 - 617 [8] Javed Ahmad , F.Z., Review of Body Area Networ k Technology & Wireless Medical Monitoring International Journal of Information and Communication Technology Research 2012 Feburary. Volume 2 No. 2. [9] Aart van Halteren, R.B., Katarzyna Wac, Nicolai Dokovsky, George Koprinkov, Ing Widya, Dimitri Konstantas, Val Jones, Rainer Herzog, Wireless Body Area Networks for Healthcare : the MobiHealth Project. Wearable eHealth Systems for Personalised Health Management, 2004. Vol. 108: p. 181 -193. [10] Milenković, A., C. Otto, and E. Jovanov, Wireless sensor networks for personal health monitoring: Issues and an implementation. Computer communications, 2006. 29(13): p. 2521 -2533. [11] Young -Dong Lee , W. -Y.C., Wireless Sensor Network Based Wearable Smart Shirt for Ubiquitous Health and Activity Monitoring. Sensors and Actuators B Chemical 2009 July. 140(2): p. 390 -395. [12] Konstantas D, H.R. Continuous monitoring of vital constants for mobile users. in 25th lntemational Conference of the IEEE EMBS September 17-21,2003 Cancun, Mexico. . [13] Ullah, K.S.K.a.S.U.a.N. An Overview of {IEEE} 8 02.15.6 Standard. in 3rd International Symposium on Applied Sciences in Biomedical and Communication Technologies. July 2010. IEEE. [14] Javier Andreu -Perez, D.R.L., H.M.D. Ip, and Guang -Zhong Yang, From Wearable Sensors to Smart Implants –Towards Pervasive and Personalised Healthcare IEEE, 2014. [15] Aleksandar Milenković, C.O., Emil Jovanov, Wireless Sensor Networks for Personal health Monitoring: Issues and an implementation. Computer Communications, 2006. 29: p. 2521 -2533. [16] Syed Furqan Qadri, S.A.A., Muhammad Amja d, Masood Anwar, Suneel Shehzad, Applications, Challenges, Security Of Wireless Body Area Networks (Wbans) Sci.Int.(Lahore), 2013. 25(4): p. 697 -702. [17] Currey, M., Arduino with HC -05 (ZS -040) Bluetooth module – AT MODE. Mostly Arduino stuff, 2014 October. [18] Lee, W. -M., Beginning Android 4 Application Development. March 2012: Wrox Programmer to Programmer. [19] Sukhraj Kaur , D.J.M., Survey on Empirical Channel Models for WBAN International Journal of Future Generation Communication and Networking 2015. Vol. 8 , No. 2. (Distance: 0.8848029375076294)\n",
            "2: A Mobile System for Vital Sign’s Data Collection and Data Presentation Writer Fohai Tang Instructor Eric Chen Examiner Daniel Einarson Bachelor Thesis Spring 2012 School of Health and Society Department Design and Computer Science i School of Health and Society Department Design and Computer Science Kristianstad University SE-291 88 Kristianstad Sweden Author, Program and Year: Fohai Tang, Computer Software Development 2009 Instructor: Dr.Eric Chen, HKr Examination: This graduation work on 15 higher educations credits is a part of the requirements for a Degree of Bachelor in Computer Software Development (as specified in the English translation). Title: A Mobile System for Vital Sign’s Data Collection and Data Presentation Abstract: This degree project deals with vital sign’s data collection and data presentation on mobile devices. The report consists of three main parts: analysis, design and implementation, and evaluation. Literature review and internet search are main methods for making an investigation on existing systems and related works. A prototype is developed by using PHP, Android and HTML5 technologies. The system test and evaluation is made to show the system’s usability. Language: English Approved by: _____________________________________ Daniel Einarson Date Examiner ii Abstract The purpose of this project work is to make research on vital sign’s data collection and data presentation on handheld devices. With the development of smart phones and tablets, more and more people prefer accomplishing their daily tasks on mobile devices. Additionally, the awareness of personal health care increases at the same time. This report consists of three main parts: analysis, design and implementation and system evaluation. By studying literature and searching related works on the internet, general design guidelines are documented. The result is that a prototype is implemented with the functionalities of data collection and data presentation. The system test and evaluation are also completed. iii Table of Contents Page Document page i Abstract ii Table of Contents iii 1. Introduction 1 1.1 Background 1 1.2 Aim and purpose 1 1.3 Report organization 1 1.4 Acknowledgement 2 2. Study on vital signs 3 2.1 Introduction 3 2.2 Primary four vital signs 3 2.3 Variations by age 3 2.4 Vital sign data types 5 3. Vital sign data collections 6 3.1 Introduction 6 3.2 Automatic data collections 6 3.3 Manual collection 7 4. Literature review 8 4.1 Method and procedure 8 4.2 Analysis 9 4.3 Qualitative findings 10 5. Design and implementation 13 5.1 Introduction 13 5.2 System description 13 5.3 General design guidelines 13 5.4 Selection of tools and operating systems (HTML5, Android) 14 5.5 Data presentation tools 15 5.6 Server side programming consideration 15 5.7 System architecture design 17 5.8 Database design and implementation 18 iv 5.9 System functions and implementation 19 5.10 Encountered problems and solutions 24 6. System Test and Evaluation 27 6.1 System test method and test result 27 6.2 System evaluation method and result 29 7. Conclusion 30 8. Future work 31 9. References 32 10. Enclosures 34 1 1. Introduction 1.1 Background With the rapid development of mobile internet, more and more industries are being influenced and transformed. Recently, the IT Company Apple Inc. announced the new version of iPad. The new iPad has been proved to support 4G, the new-generation wireless technology. From user point of view, it will be faster and more convenient for downloading and uploading data through hand-held devices. This project is about data collecting and data presentation in a personal healthcare system. The idea comes from instructor Dr. Eric Chen’s project proposal. A related work has been done in the year of 2009. Two students from home university have developed an e-healthcare subsystem for chronic renal failure patients. ASP.NET was the main technology being used for building the system. However, by the time goes by, the role of mobile devices becomes more and more vital in the personal healthcare field instead of web applications. A totally new research needs to be done on mobile platform. 1.2 Aim and purpose The purpose of the project is to help patients remotely interacting with the healthcare system, by inputting data through hand-set devices and viewing visual presentation of the health data. The project work’s core parts are data collection and data presentation for the end users (patients), the patient vital signs are collected and sent to the central server for remote storage. The data can then be used by the healthcare personal for diagnosis and disease management (it is not part of this project), or by the patients and their relatives to support self-care. Considering limitation of project time, on one hand, data collection’s application is developed as a native mobile application which runs on a specific operating system. On the other hand, application in the purpose of data presentation is developed as a web-app or browser application. Both native app and web-app have their strengths and drawbacks. What’s more, mobile users also have different preferences. Some feels comfortable with native app, whereas others choose to work with help of web-apps. In the future, another data collection’s web-app and data visualization’s native-app are going to be carried out. 1.3 Report organization The report is divided into 10 chapters. The first chapter is about this project’s aim and acknowledgement. Next, from Chapter 2 to Chapter 4, it is mainly focusing on the study of primary vital sign’s types, data collection methods and related works have been done before. Then, Chapter 5 is about the prototype’s design and implementation. The investigations on client side and server side programming are also discussed in this chapter. Afterwards, system test, evaluation, conclusion and future work recommendation are included from Chapter 6 to Chapter 8. Lastly, Chapter 9 contains a list of references. 2 Screenshots of literature review’s details, GUI design details and abbreviations which are used in the report are attached in the Chapter 10. 1.4 Acknowledgement The author would like to express my special thanks to instructor Dr. Eric Chen. The weekly meetings with him guide me to achieve a better system design and gain deeper understanding of degree project work. In addition, he helps me to order full-text reports which are needed for literature review from library. The whole project work would not be done without his patience and his support. 3 2. Study on vital signs 2.1 Introduction Vital signs are vital measurements of physiological statistics and widely used by healthcare institutions [32]. In this project, the system retrieves primary four vital signs data from user and display past data in a simple and easily understood way. 2.2 Primary four vital signs The primary four vital signs are as follows: Pulse The pulse is “the physical expansion of the artery” [32]. It is closely related to heart rate and cardiovascular disease. Small change of pulse rate indicates various medical conditions. For example, an infection or dehydration can be detected from a fast pulse rate [33]. Blood pressure Blood pressure is “the pressure exerted by circulating blood upon the walls of blood vessels” [23]. High blood pressure or hypertension affects the kidneys, arteries, heart or endocrine system [27]. Low blood pressure or hypotension can leads to serious heart, disorders of endocrine and neurological [28]. In addition, severely low blood pressure can cause shock [28]. Respirations Respiration rate, or breathing frequency is “the number of breaths taken within a set amount of time, typically 60 seconds” [30]. It helps to diagnose abnormal state of lung. Tachypnea or rapid breathing can be caused by carbon monoxide poisoning, haemothorax or pneumothorax [31]. Dyspnea or shortness of breathing is caused by “asthma, pneumonia, cardiac ischemia, interstitial lung disease, congestive heart failure or chronic obstructive pulmonary disease” [25]. Temperature Temperature stands for body temperature. Fever or high temperature can be a symptom for infectious disease, immunological diseases, skin inflammations, tissue destruction, and cancers [26]. Hypothermia or low temperature’s risk factors are chronic disease, hypoglycaemia and trauma [29]. 2.3 Variations by age Age is a main factor for defining normal state of vital signs. Human in different period of lifetime have diverse normal state of pulse rate, blood pressure, respiration rate and body temperature. In the following, three vital signs tables are used to illustrate variation on normal range of these vital signs. 4 2.3.1 Pulse rate Table 1. Table for regular range of pulse value [22] Pulse Adult 60 to 100 beats per minute Children - age 1 to 8 years 80 to 100 Infants - age 1 to 12 months 100 to 120 Neonates - age 1 to 28 days 120 to 160 Adult’s regular range of pulse rate is various from 60 to 100 beats per minute. Children who are between 1 year old and 8 years old have 80 to 100 beats per minute. Infants and neonates have a higher value compared to adults and children, 100 to 120 and 120 to 160 respectively. 2.3.2 Blood pressure Table 2. Table for regular range of blood pressure value [22] Blood pressure Systolic Diastolic Adult 90 to 140 mmHg 60 to 90 mmHg Children - age 1 to 8 years 80 to 110 mmHg Infants - age 1 to 12 months 70 to 95 mmHg Neonates - age 1 to 28 days >60 mmHg For the blood pressure, adults’ normal systolic pressure varies from 90 to 140 mmHg. Children’s systolic pressure can be 80 to 110 mmHg. When it comes to infants and Neonates, the value is lower. The systolic pressure for the infants is 70 to 95 mmHg, and for neonates, it is greater than 60 mmHg. 5 2.3.3 Respiration rate Table 3. Table for regular range of respirations value [22] Respirations Adult (normal) 12 to 20 breaths per minute Children - age 1 to 8 years 15 to 30 Infants - age 1 to 12 months 25 to 50 Neonates - age 1 to 28 days 40 to 60 Normal respiration rate for an adult is 12 to 20 breaths per minute. The value increases by the decreasing of age. For a child, it is 15 to 30 breaths per minute. And for infants and neonates, it is 25 to 50 breaths per minute and 40 to 60 breaths per minute respectivily. 2.3.4 Temperature Infants and neonates usually have higher body temperature then adults and children. Females also have a higher value compared to males. Normal range of human body temperature is from 36.2°C to 37.2°C. 2.4 Vital sign data types Considering implementing healthcare system, vital sign data requires being represented in general programming data types. Based on the discussion above, following data types can be used. a. Integer The type integer can be used for primary four vital signs’ data storage. b. Boolean Use type boolean for storing data that determines if patients have one specific kind of symptom. c. String Use type string for storing text data. d. Float Float type can be applied for the other vital signs type except the primary four vital signs, since some vital types need more float point to realize accuracy. 6 3. Vital sign data collections 3.1 Introduction Data collection means to retrieve vital signs data from user. There are lots of data collecting ways available on the market. These methods can be divided into two major categories: collecting data automatically and inputting data by user manually. Each of them has its own advantages and disadvantages. 3.2 Automatic data collections Collecting data automatically is good for increasing efficiency. Users don’t needs to type data by themselves. However, the drawback is that data’s accuracy is not guaranteed for some specific ways of automatic data collection. Discussions about methods for collecting vital parameters automatically are listed below. 3.2.1 Wireless device Bluetooth On 16 th of March, 2012, Apple Inc. launched the new iPad which supports Bluetooth 4.0. It is the first time that tablets implement this latest version of Bluetooth. Bluetooth 4.0 is known for its Low Energy Technology [24]. It guarantees a Bluetooth device longer battery life compared to previous versions. Additionally, the standard for Bluetooth 4.0 includes two new data types: the Health Thermometer Profile and the Heart Rate Profile. It makes monitoring and sending vital sign’s data more easily. The advantages of Bluetooth technology are low cost, flexible ranging and low power consumption [21]. The devices don’t have to be really close for the purpose of configuring the line of sight during data transmission. Even though pairing enforces security of device communication, however it also ends to a long setup time. Bluetooth hacking is still a security problem. Zigbee In order to build wireless sensor network, Zigbee is considered to be low cost, low power consumption and easy network building and configuration. Low data rate is the main drawback, typically less than 250 kbps. 3.2.2 Camera With the improvement of cameras on mobile phones, more and more innovative ways of data collection have been revealed. On November 17, 2011, Philips released a Vital Signs Camera app. The app provides an easy way to measure heart rate and breathing rate by just looking at camera. No optional sensors are needed. Another technology, OCR (Optical character recognition) can also help user input data by simply taking a picture of hospital’s lab report. The downside of collecting data by camera is accuracy and fixed range. It’s hard to guarantee data’s accuracy. User need to keep a certain fixed range for capture picture or keep capturing with camera. 7 3.2.3 USB Nowadays, USB is the most widely used way for communication between a device and a computer. The transmission speed is really high. The negative side is that a USB cable is needed and it has fixed short range. 3.2.4 Microphone Voice recognition has been spotlighted again with the launch of Siri. Siri isn't just voice recognition technology, but voice comprehension [19]. However, accent difference and accuracy are still the problems that need to be solved. 3.3 Manual collection The alternate way to enter data is to type manually. It reduces efficiency but on the other hand, it raises the accuracy. The following part discusses available data collecting GUI components’ usage on common mobile devices. Seekbar controls , Textfield controls and Spinner controls are often used for obtaining input texts from user. Seekbar controls help a user to pick a value from a certain range. One thing that concerns about Textfield controls is that most present smart phones provide an auto-complete feature. Users save a lot of extra typing time because of this function. When it comes to dropdown list role, on the mobile phone it is typically performed by Spinner controls. Usually, Buttons, Check Boxes, and Radio Groups are implemented for the purpose of accepting user’s choices. For retrieving time and date, DatePicker controls and TimePick controls are being used quite frequently. 8 4. Literature review 4.1 Method and procedure In the first place, PubMed database has been chosen for this literature review study’s data source. It is widely used in the health research study and maintained by United States National Library of Medicine (NLM) at the National Institutes of Health. The main references of research papers in PubMed come from MEDLINE database. Compared to Google scholar, it has a better precision on both overall search and full-text search [2]. Secondly, it is required to find out proper searching keyword. For topics for data collection and user interaction, the key word is “(\"user interaction\" OR \"data input\" or “user interface”) AND (mobile OR handset OR \"cell phone\" OR tablet OR smartphone OR ipad OR “android” OR iphone OR \"handheld\") AND ((healthcare) OR (\"health care\") OR \"medical\") AND \"english\"[Language]”. 50 hits have been found. Next, when searching for data presentation related topics, “(visualization OR \"data presentation\") AND (\"mobile\" OR \"cell phone\" OR tablet OR smartphone OR ipad OR iphone ) AND ((healthcare) OR (\"health care\") OR \"medical\") AND eng[Language]” is used as search criteria. 61 hits show on the screen. Thirdly, filtering the result is essential during literature review. From the figure that shows in the next page, after reading the abstract and reducing duplications from two search result sets, 64 papers have been eliminated. Then, another 6 papers have been taken out from study result set. The reasons are one paper mostly focuses on heart rate monitor’s usage for personal wellness, one mainly discusses about decision support system, one more has a study on Nightingale tracker technology’s education, another one considers mobile phone’s usage on point of care instead of personal health care field, then two more results serve for CT datasets and the last one study on animals’ health data. Afterwards, lacking of full-text, 6 results has been omitted. In the end, with the help of instructor and home university’s library, 35 reports have been collected for detailed review and analysis. 9 Figure 1 Figure for literature review procedure 4.2 Analysis 1. Publishing year Table 4. Table for count of each publishing year’s article P ublishing year Count 2012 3 2011 6 2010 6 2009 2 2008 9 2007 4 2006 4 1998 - 2005 6 The table above shows the count of reports in each publishing year. The attention on mobile health rises from year 2006. Then the peak appears in the year of 2008, there are 9 reports which is the largest number for the total numbers of publications per year. Next, in the following year, only two results have been found. Lastly, the rate of 6 reports per year remains until now. 10 2. Publishing country Table 5. Table for count of each country’s article Publishing country Count Austria \u0000 3 Finland 1 Germany \u0000 4 Greece 1 India \u0000 1 Italy 3 Japan 1 Korea 1 Norway 5 Portugal 1 Spain 1 Sweden 2 Turkey 1 UK 1 USA 13 From table above, it indicates that USA put the most efforts on e-health among all countries. 13 related reports are published in USA. It can be seen that Norway and Germany also work hard on mobile health, with 5 research reports respectively. The number of reports which published in Europe and UK is 23. Especially Nordic countries have made a major contribution to improve mobile health system, 8 published research papers. However, looking back to Asia, only 4 results are found in the result set. 4.3 Qualitative findings With the fast pace of mobile device’s development, an increasing number of people are being comfortable using mobile phone, tablet to accomplish their daily life tasks. As well people are willing to integrate these devices to capture their health status [8]. With the help of touch screen, it is easier to collect vital sign data at any time as long as device is in the reach of their hands. From user’s point of view, it is also straightforward to learn and becoming familiar with inputting health data on mobile device [8]. Yet there are still some major distinctions between elder people and young people. 11 4.3.1 Youth vs senior people Senior people prefer text in large font and input data without typing manually [10]. Also a simple and straightforward user interface design is significant factor for older user [1]. Furthermore, unlike youth, they are not adapting to common user interface’s usage for navigation and actions. Such as, iOS’s dock navigation is more suitable for elders instead of common web page navigation structure. In addition, they have another problem using Drap-and-drop action which is quite intuitive for younger users. The reason they said is that they thought that after dragging one item to the other place led to making item disappear from the former position [10]. One important thing for youth, is that childish graphical user interface is really uncomfortable in their point of view [11]. Despite those points mentioned above, both young people and old adults would rather to have iconic images combined with text in the application [11], [10]. In my point of view, it can not only help users easier to learn how to use the application, but also delight users instead of just plain text in front of them. 4.3.2 Sensor network and wearable devices By means of sensor network and wearable devices, personal health data collection becomes easier and lower-cost. What’s more [5], it signifies it is possible that monitoring respiration rate is performed by embedding optical fibers into textiles. Yet it requires certain breathing technique and body posture from user point of view. A noise filtering algorithm and making T-shirt (with sensor on it) easier to wear is needed to improve the usage. In the report [12], the system uses Zigbee for building sensor network and collecting vital parameters. Then with the help of Bluetooth, it achieves communication with server and stores data on the server. It is implemented on J2ME mobile phones. As the author mentioned in the article, there are two primary security concerns in this architecture, “mutual authentication between each sensor node of the BAN and the MBU” and “secure data exchange in intra-BAN communication” [12]. The security problems still need to be carefully configured in sensor network architecture’s design. It can be a reason that the usage of the sensor network and wearable device is still low in the real world [6]. Especially on the iOS platform, the main reasons are insecure data transmission and lacking of official support [6]. In contrast, NFC and RFID are being thought as more secure. 4.3.3 NFC and RFID There are more and more hospital integrating RFID technology into patient identification and tracking [3], [13]. Acquiring data by applying near field communication (NFC) technology, enhances improved portability, better integration with RFID, usability and learnability [9]. Inputting data can be simply performed by using a RFID tag to touch mobile device. 12 4.3.4 Security In the present, data transmission on mobile device is still quite risky. [4] If a user uses open operating system such as: Android, which the source code is open to everyone, may leads to various insure situations. As well as that other application can be grant permissions to interfere or stop the target application. On the other hand, if user chooses a proprietary operating system such as iOS, it constrains developing progress, such as without Jailbreaking, developer is not able to access the serial interface. Particularly third party application probably cannot be able to cooperate with developer’s application. To enforce safety, the system uses two-tier authentication in the report of [7]. On the client side, a unique security code, username and password are needed. On the server side, (UDID unique device ID) is used. UDID usually identifies the unique of each apple device. After certain inactivity period of time, the system will pop up a window to ask a user if he wants to keep the session alive. The user needs to reenter the security code to reactive the session, otherwise the application will exit automatically in 30 minutes. In my point of view, it protects data’s authenticity. However, the transmission between server and client is not guaranteed. Talking about NFC, it limits short-range communication. In particular with the help of unique RFID tag, it achieves enforced safety and avoids faking. 13 5. Design and implementation 5.1 Introduction In this chapter, design and implementation of the system are two main topics. Firstly a brief system’s description, general design guidelines are presented. Then how to select proper tools and operating system both on the client side and server side programming consideration are discussed. Next the system’s design and implementation section includes whole system architecture, database and functionality of system. Lastly, several encountered problems and solutions during project work’s progress are discussed. 5.2 System description The system is able to collect vital sign data and present data in a chart view. Two applications are implemented for data collection and data presentation, respectively. The project is focusing on general user who would like to record and view personal health data in their daily life. The data can also be used for hospital personnel to monitor patients’ health status. Mobile devices (such as smart phone, tablet) are mainly used for accessing the system. It enables users to input health data in any place and any time as long as internet enabled mobile devices near them. 5.3 General design guidelines Design guidelines are important, and can have a core impact on achieving expected results which is decided in the start of project work. Keeping them in mind during the whole progress of project development, makes sure we are on the right track. Some general design guidelines are listed in the below, after literature review and internet search. • Keep GUI design simple because of limitations on mobile devices, such as screen size and battery’s consumption. • Font size and graphical components’ size shall not be too small for senior people. Senior people prefer iOS‘s dock item design instead of normal web page design. • The graphical user interface needs to apply for various screen size of mobile devices. • Keep appropriate gaps between graphical components and group these components in a meaningful way. • Use different color for represent different types and ranges of vital sign data. User can identify whether the sample of data is in a normal range or not. • Provide touch feedbacks on mobile device for better user interaction. • Keep writing style simple, short, important things come first and friendly [17]. • Avoid childish graphic presentation for teenager user. Teenagers are quite sensitive to it. • Apply user experience’s and user interaction’s knowledge during design of system. 14 • Don’t add too much interaction on mobile application, because it may lead to bugs and conflict on distinguishing gestures. • Deal with interrupt of other applications or incoming calls on the mobile phone. 5.4 Selection of tools and operating systems (HTML5, Android) 5.4.1 Android vs iOS Android is the platform used in this project work’s data collection part. The reasons why we choose Android instead of iOS are presented as follows: 1. Choosing Android platform is good for a lower cost for developing app and no need to buy external devices, for example a Mac and an iPhone. 2. Since the app is mostly used for communication between patients and healthcare system, the amount of user is the main consideration. The project work is intent on letting more users involve experiencing the app. Consequently, android which has a larger user group is chosen as the programming platform. 3. Android has a better support for integrating with Google’s tools and services, such as Gmail, Google map, Google search, Youtube, Google Goggles and Google translate. 4. Android is based on Linux operating system. The app is easier to improve with embedded Linux in the future. However, because of lacking knowledge, embedded Linux will not be involved in this project work, even though it is so common and popular in the real world. 5. To continue project work on the Android platform, developers have more programming rights and permissions on mobile device compared to iOS. 5.4.2 HTML5 In the beginning of project, the whole system is supposed to be built on Android platform. However, after we take close look at Android’s charting library, we found that android didn’t have a standard charting library. There are various third parties’ graphing library, such as ChartDroid, AndroidPlot and AChartEngine. Still, these libraries don’t offer rich user interaction and good support for various screen size. Considering better user interaction and user experience, client-side programming languages come to our mind. We decide to create our data presentation application with cutting-edge technology HTML5. In the developer point of view, HTML5 enables apps with more functions, better performance, higher speed and closer experience to desktop application [15]. From user point of view, user can simply type a web address in the browser or click an icon to run the application instead of downloading app first, then installing and running the application. At the same time, users don’t need to be worried about updating and configuring the right version of the application. All of personal data is 15 synchronized and not limited to one specific device or platform. Whether you are using a desktop or mobile device, iOS or Android, HTML5 works perfectly in various platforms and devices. 5.5 Data presentation tools 5.5.1 Sencha touch vs other HTML5 mobile frameworks Along with increasing speed of mobile internet, numerous mobile frameworks are being developed. They all have their own positive and negative sides. In the following, I will just compare three popular ones: Sencha touch, jQuery Mobile and Dojo. 1. Licensing. Dojo offers quite liberal license. It is free whether you built your applications for open source or commercial purpose. JQuery Mobile is under license of GPL or MIT, so it is also free to use. However, Sencha touch’s licensing is more complex. The latest version 2.0 of Sencha touch requires purchasing its commercial license in order to distributing your application. Whereas the version 1.0 is under GPL v3 license. 2. Performance. Sencha touch and Dojo have much better and more reliable performance then jQuery Mobile during app’s running time, but have a longer initial load time [16]. In my own tests, Sencha touch has faster graphic rendering speed and better integration with iOS operating system compared to Dojo framework. 3. Documentation. Sencha touch’s documentation is extensive and has examples in frequent using classes compared to another two frameworks. Source code is directly link to each class’s documentation. Yet there are still some typos and odd holes in the documentation. 4. UI components. Sencha touch offers a wider choice, better interaction and better looking UI components and widgets. 5. In practice, Sencha touch is suitable for small teams, in contrast, large team can choose Dojo for better codebase maintaining [18]. Finally, Sencha touch version1.0 is used in this project since it offers better user interaction, performance, outlook of UI components, good documentation which abounds examples and GPL license. 5.6 Server side programming consideration In the web development, there are a variety of options for the server side programming language. The debates on choosing the most suitable language for specific project work have never been stopped with the improvements of each language and framework. All of them have their own advantages and disadvantages. In the following part, PHP, RUBY and ASP.NET will be mainly discussed about. 16 5.6.1 PHP, RUBY, ASP.NET comparison 1. Maintenance During the development of one project work in the real world scenario, the original author of project development work is always not the one who will maintain and modify the code in the future. Thus when choosing a server side language in the beginning, the factor of maintenance should be keeping in mind. In addition, measurement of maintenance is various in different contexts. For instance, if the scenario is developing a website which sells products, Ruby is not a good choice, since support is usually not provided in commodity web hosting [14]. On the contrast, PHP is generally used anywhere and more familiar to other programmers. 2. Cost As we know, PHP and RUBY are open source, whereas ASP.NET is an Microsoft’s product. When it comes to web hosting, LAMP (Linux, Apache, MySQL and PHP) are quite popular. Mainly the reason is that purchasing and upgrading of Linux operating system, Apache server, MySQL server, PHP are free. As well, there is no need for paying extra licensing cost for backup server. So maintenance cost for load balancing and server clustering is reduced. Particularly, compared to PHP and RUBY, ASP.NET needs IIS and Microsoft SQL as web server and database server running on Windows operating system. Consequently, cost for purchasing and upgrading operating system, and server are added to company’s budget externally. In addition, by increasing amount of servers, licensing fees have also to be charged from Microsoft. 3. Support Developing with each of three languages can all have good support, since any of them is popular in web development. The main difference can be that, on one hand support for PHP and RUBY is mostly coming from open source community. On the other hand, Microsoft takes responsibility for technical support. 4. Performance For database accessing and modification, PHP has a long history working with MySQL server. Until now, the performance for communicating between PHP and MySQL is still faster than ASP.net and Microsoft SQL server [20]. For accessing file system, compared to Windows’ NTFS file system, Linux‘s ext4 file system has a better performance [20]. Moreover, Windows system is considered as more cumbersome which leads to less available CPU and more RAM using rather than Linux. 17 5. Ease of prototyping PHP is easier to learn and has less time to deploy a website. As a price, you have less knowledge about low-level computer science concept and thinking skill in object-oriented design. 6. Security PHP, RUBY and ASP.net can all achieve enforced security of website building. One thing to notice is that PHP allows bad programming practices. It results in more bugs and security risks if developers don’t have a thoughtful design and coding style. 7. Popularity and usage Each one has their own large using groups as developers or companies. Some examples are given in the following: Facebook, Wikipedia, WordPress are built with PHP. Twitter, Hulu and Groupon uses Ruby. MSN.com, Live.com construct with the help of ASP.NET. However, LAMP (Linux, Apache, MySQL and PHP) is still much more popular than the other ones in web hosting. To sum up, PHP has been chosen as the server side programming language. Quick deployment, low cost and wider popularity are the major reasons why it has been selected among three options. 5.7 System architecture design Figure 2. Figure for system architecture The whole system is divided into two core parts: data collection and data presentation. Two stand-alone applications are developed. 18 5.7.1 Data collection The client application used for getting user’s vital sign data is developed on Android platform. After the client application receives data input by user, it sends an HTTP POST request with user’s data to a PHP web page which runs on the server side. Then the server inserts data into a MySQL database. Finally, the PHP page sends back the result which indicates whether the operation is successful or not. 5.7.2 Data presentation By using HTML5 technology, a browser is the major user interface to the system. Firstly, after a user enters the web address of the application, an HTTP GET request is sent from the Sencha touch chart application to the same PHP web page which mentions in the data collection part. Secondly, the PHP page gets data from the database by a SELECT SQL operation and sends these data in JSON format back to the client application. Finally, the client application plots these data in a chart view or block view. 5.8 Database design and implementation To let users be able to retrieve their health data from anywhere and anytime, a central database for storing data is designed in this system. The database contains one table named “vitalsign”. In the following describes this table’s columns: 1. Id “Id” column is primary key of “vitalsign” table. It increases automatically when new row has been inserted into table. The data type is int(8). 2. Value “Value” column stores value of vital sign data. The data type is smallint. Representing the value of body temperature in smallint data type is not mean that the system ignore the value after decimal point. To minimize storage space of data, data type “smallint” with storage size of two bytes is used rather than data type “float” in four bytes. In order not to lose the accuracy of data, before inserting body temperature data into database, the PHP page which handles database operation, multiply the data by 10. Next when data presentation application sends request for receiving data, the same PHP page divided data which get from database by 10. 3. Date “Date” column represents recorded data’s date. The data type is varchar(10). The date’s format is YYYY/MM/DD. The reason for choosing this format is to sort date easier by using ORDER BY Sql operation. 4. Userid “Userid” column is used for identifying specific user. The data type is int(10). 19 5. Type “Type” column stands for type of vital sign data. The types are: TEMP shorts for body temperature, RP shorts for respiration rate, BP shorts for blood pressure and PULSE shorts for pulse rate. The data type is varchar(10). 6. Note “Note” column keeps track of user’s note when recording health data. Possible note can be the food he eats before measurement, feelings and so on. It can be helpful for hospitals to identify patients’ symptom. The data type is varchar(200). 5.9 System functions and implementation The system’s functions can be mainly divided into two categories: collecting data and presenting data. 5.9.1 Data collection Figure 3. Figure for data collection GUI The figure above shows the graphic user interface for data collection application on the Android platform. 1. Seekbar and EditText Seekbar and EditText android graphical components are used for retrieving vital signs data from users. Depends on a user’s preference, he can choose input data whether by scrolling the Seekbar or typing manually. Seekbar is much easier and intuitive for users to enter data in the user experience perspective. However, sometimes people may want to input data by keyboard. Therefore, both methods remain in the implementation. The note text field gives users an ability to write down feelings or things when recording vital parameters. 20 2. Buttons After fulfilling the form, users can decide whether to send data to server by clicking Submit button or clear data fields by clicking Reset button. Considering better user interaction, enlarging button animation is developed when a user clicks on one button. Consequently, a user can make sure he pressed the button. Next, a confirmation dialog pops up in order to let the user change data before submitting data to the central server. It can not only enhance the user experience, but also enhance data’s authenticity. Additionally, Client side data validation is performed to check if a user enters valid data or fulfills all the required data fields. The required data fields are all input text fields except note text field. The reason that why note text filed is mandatory is considering from user point of view. It is usual that a user may not want to write any note about measurement. In the end, an error message will display if data’s value is not in the correct range by inputting data from keyboard. 3. Padding and size Padding between Seekbar and left side of screen is to achieve better user experience. Users are more comfortable when scrolling Seekbar rather than no padding. The size of Seekbar is longer than EditText because of better usability and outlook. 4. Data’s color differentiation Vital signs data which are inside or outside regular range for one specific data type will end in different EditText control’s background color. It reminds user his health status when he is sending vital parameters to server. If one type of vital sign is out of normal range, the user can find it out immediately and ask for help from doctors or family members. In certain situations, this feature may save a person’s life, since time is a vital factor for emergency. 5. Grouping components A line is used to separate two groups of graphic components. One group is for inputting value and the other one is for submit and reset functions. This line keeps simplicity of design and helps users to identify functionality of graphic components more easily. 21 5.9.2 Data presentation Figure 4. Figure for data presentation GUI on mobile phone in portrait mode Figure 5. Figure for data presentation GUI on mobile phone in landscape mode 22 Figure 6. Figure for data presentation GUI on tablet in portrait mode Figure 7. Figure for data presentation GUI on tablet in landscape mode The four screenshots show data presentation application’s look in smart phone’s portrait mode, landscape mode, tablet’s portrait mode and landscape mode respectively. The application primarily focuses on presenting data in a well-structured and ease-interaction way. It offers following features and functions: 1. Adapt to different mobile device As you can see from above screenshots, data presentation application is suitable for various mobile device and different operating system. Especially on tablets, data presentation application has a better performance and visual view. 2. Plot data Four data types (pulse rate, body temperature, blood pressure, respiration rate) can be plot as line charts individually or together on the screen. The reason for this design is based on different contexts and user preferences. For example, doctors need to view two or more vital signs’ trends when they identify a patient’s symptom. In this context, multiple line charts display in the shared canvas is necessary. Another example is: sometimes, users or doctors only want to view one data type’s chart without distraction of the other ones. Display line chart for individual data type can be considered as the best solution. 23 What’s more, to gain less confusion and better view of data presentation, on the chart, each day will only have one data point value for each vital sign. The value shows on the chart is the average value which calculate from a predefined SQL statement in the PHP web page. The reason for that personal healthcare is the main purpose of this project. In the user point, one data point per day is enough at the user side. More data points increases distractions and confusions. However, in the central database, multiple users’ samples per day can still be retrieved by hospitals and health institutions. 3. Line chart and block table Two types of data presentation are provided in this application. One is line chart, the other one is block table. On one hand, observing data’s trends and relations between different data type is major purpose for line chart design. The Y-axis represents value of vital sign data, measurement date is displayed in X-axis. On the other hand, display each date’s data in individual block, is in order to view inserting data’s history and take a quick look of one specific date’s data in a plain text view. Some users prefer chart view, yet there are still one group of users would rather view data in plain text. 4. Help button A help button is placed on the dock with a question mark icon. This button is mainly used for showing help information about the application’s functions and instructions. User can learn how to use this application more quickly with the help of this button. 5. Zooming in and out Zooming function is really important for smart phone’s user, since the screen size of mobile phone is rather small. In this application, users are able to zoom in and out both horizontally and vertically. Additionally, after zooming in, users can switch between zooming mode and viewfinder mode. Zooming mode means users can continue zooming out or zooming in by pinching and spreading. Viewfinder mode is mostly used when users want to move the view under a zoomed screen by dragging on the screen. It is valuable when users just want to move a little around the zoomed screen. 6. Display individual point’s value From tapping on each data point, user can view this data point’s value clearly on a pop up window. Further information about this data point is also included, such as whether the value is inside or outside a regular range. The data in different range ends in different color which is the same as the function mentioned in the data collection’s app part. 24 5.10 Encountered problems and solutions 5.10.1 How to get each average value of four vital sign data type per day? Solution: Instead of query database four times to retrieve average value for each vital parameter, I use one SQL statement to enhance system’s performance. The statement combines four result sets of different health data first and then reduces the redundancy by add a condition for date’s coherence. The SQL statement is showed below: SELECT * FROM ( SELECT AVG( `value` ) AS BP, `date` AS DATE FROM `vitalsign` WHERE `type` = 'BP' GROUP BY `date`)a, (SELECT AVG( `value` ) AS TEMP , `date` FROM `vitalsign` WHERE `type` = 'TEMP' GROUP BY `date`)b, (SELECT AVG( `value` ) AS RP , `date` FROM `vitalsign` WHERE `type` = 'RP' GROUP BY `date`)c, (SELECT AVG( `value` ) AS PULSE, `date` FROM `vitalsign` WHERE `type` = 'PULSE' GROUP BY `date`)d WHERE a.`date` = b.`date` AND b.`date` = c.`date` AND c.`date` = d.`date`. 5.10.2 Problems when studying Sencha touch document. Solution: during reading Sencha touch official document on the website, there are some typos in it. Since I use the text editor for programming, it takes a lot of time to finally find one typo in the example’s code. Typos are rarely appearing in major programming language’s document, such as Java, C#’s API. My recommendation is to carefully observe the code even if it is provided in the official document. Another solution is to take a look at latest version of framework’s document even though you are developing program on previous version. It may helps you to find out reasons for strange bugs. 5.10.3 Display problem about line chart’s graphic component for data type selection As the picture shows below, when the application runs on smart phones, the graphical component for data type selection has overlays on the other button which serves for switching between zooming mode and viewfinder mode. I tried different ways to overcome this problem, such as moving components position, yet failed. The reason is that the position of data selection’s bar and mode switching’s button are pre-programmed horizontally in the framework. In the end, I go back to read API and find one useful property: dock. This property minimizes the selection bar into one button. The outcome is showed in the following screenshot. 25 Figure 8. Figure for GUI with overlapping problem Figure 9. Figure for GUI without overlaping problem Because of limitation on mobile phone’s screen size, I recommend group different functions into buttons to obtain better visual presentation. 5.10.4 Problem working with Android Seekbar Android only supports seekbar’s value range in decimal values. When we want to use it for float body temperature value, we encounter this problem. After searching solution on the internet, I found the solution. Firstly I configure Seekbar’s range to 80. Then convert data into proper float value when display the value in Edittext’s text field. The code is present below: //convert value to valid temperature value String tempVal = Float. toString ((float )(progress+350)/10); //bind value dynamically to Edittext field tempTextField.setText(tempVal); 26 5.10.5 Problem with Android EditText’s text validation Android API predefines three methods in the EditText’s listener. They are beforeTextChanged (CharSequence s, int start, int count, int after), onTextChanged (CharSequence s, int start, int before, int count) and afterTextChanged (Editable s). First method is used for changing existing texts in the EditText control. Second and third method can be used for observing texts which just have been changed. The main difference among them is edibility of new texts that have been just input to the EditText control. The second method is unable to edit the new texts, whereas the third one allows you to edit the texts. 27 6. System Test and Evaluation 6.1 System test method and test result Black box testing and white box testing are applied during the development of project work. Black box testing is primarily used for testing the functionality of the system. On the other hand, white box testing is mainly used for observing codes. Data collection black box testing: Table 6. Table for data collection black box testing Test nbr Description Expected outcome Pass / Fail 1 Submit data with all data field fulfilled 1) Input the data in all EditText controls or scroll all Seekbars to a certain value 2) Press Submit button A successful message shows on the screen, indicates submitting data successfully. Pass 2 Submit data without all data field fulfilled 1) Input the data in one EditText control or scroll one Seekbar 2) Press Submit button A n error message should pop up on the screen that indicates submitting data unsuccessfully. Pass 3 Reset data field s 1) Click reset button Seekbar’s and EditText’s value s need reset to default values. Pass 4 Reset data field 1) Input value in one of the data field or scroll one Seekbar 2) Click reset button Seekbar’s and EditText’s value s need reset to default values. Pass 5 Observe EditText’s background color changing 1) Input data or scroll data inside regular range 2) Input data or scroll data outside of regular range If input data is in the regular range, the background color is green. Otherwise, it is red. Pass 28 6 Submit data out of predefined range 1) Input out-ranged data in each EditText control 2) Press Submit button A n error message should display on the screen indicates submitting data unsuccessfully. Pass 7 Test different k eyboard disp lay depends on different GUI components 1) User taps on Pulse, Blood pressure, Respiration rate and Temperature’s EditText control or taps on Note’s EditText control If user taps on Pulse, Blood pressure, Respiration rate and Temperature’s EditText, a numeric keyboard pops up. If user taps on Note’s EditText, text keyboard shall pops up. Pass 8 Observe dynamical data change between Seekbar and EditText field 1) Scroll Seekbar The value in EditText field should change according to Seekbar’s change. Pass Data presentation black box testing: Table 7. Table for data presentation black box testing Test nbr Description Expected outcome Pass / Fail 1 Plot data 1) Run applicaiton Four lines will display on the same chart. Pass 2 Zooming in and out 1) Pinch and spread on the screen The x - axis and y - axis will zoom in and out with pinching and spreading on the screen. Pass 3 Get one data point detail information 1) Tap on one specific data point on the screen After tapping on the data point, a window pops up. It contains details about this data point Pass 4 V iewfinder mode 1) Zoom in by pinching 2) Click switch mode button to Viewfinder mode 3) Tap press and move your finger on the screen You are able to move view by moving your finger. Pass 5 Select plot data type 1) Click selecting data type button 2) Enable or disable Specific data type’s line on the chart will appear or disappear according to taping on the data type. Pass 29 desirable data type s by taping 6 Get help information 1) Click help button on the dock A help window will po p up with help information in it. Pass 6.2 System evaluation method and result In this project, the evaluation methods are comparing with similar apps in the market and discussing with classmates and instructor. 6.2.1 Comparison with apps in the market E-health is a hot topic nowadays. More and more apps have been developed recently. The system strengths are as follows: To start with, as mentioned in the literature review part, there are not so many research projects using Android or iOS as their main developing platform. HTML5 technology is not found in the result set of literature review. It proves that my project work is on the cutting edge. With the benefits of HTML5, cross-platform feature can be the point that my application shines among existing apps. Secondly, with the help of Sencha touch framework, data presentation app is able to dynamically change graphical layout corresponding to device’s screen size. Many applications don’t offer this feature when I am examining the app market. Thirdly, the lack of zooming function on the chart is found on many comparable apps, yet my project work implements this important function. Finally, for inputting data on the mobile phone, most apps uses text field, whereas in this project, both scrollbar and text field have been provided for better user experience. On the other hand, there are still some weaknesses in the system. In the first place, compared to the other apps, the security factor is not considered much in this system. Four digits code is usually required for enhancing client side security. Then the functionalities are not as rich as other apps on the Apple’s app store or Android market. In the end, in this project, the system focuses on single user, which makes the application lacks of multi-user functionality. 6.2.2 Discussion with classmates and instructor User-centered method is applied on discussion among classmates and instructor. Each week, I collect feedbacks on system’s design mainly from instructor Dr. Eric Chen and then make changes on the development of system. Classmates also make reviews after using the prototype. They make system more adaptive to different users’ preferences. 30 7. Conclusion The purpose of this report is to make investigations on vital sign data types, overview available data collection and data presentation methods on mobile devices. Finally, it designs and implements a prototype application based on the user interaction design guidelines. Test and evaluation are also done. After finishing this project work, I have gained knowledge on several points which list below. 1. I get a deeper understanding of UI design on mobile devices. Mostly it is related to Android and HTML5. 2. To be honest, I have no literature review experience before. Now I am more familiar with general procedure of literature review and structure of formal research paper. 3. Before the beginning of the project, I am new in the field of e-health. At the present, not only my English vocabulary for medical terms is increased, but also my perspective on e-health is raised to an upper level. I am glad to work on a project which can really improve people’s daily life. 4. As well my programming skills are enhanced on client-side, server side and framework. Rare JavaScript and PHP knowledge has been taught before the start of this project work. At the same time, Sencha framework and HTML5 knowledge was new for me in the beginning. 31 8. Future work Since this project only produces a prototype, there are several things that I would like to implement in the future. First of all, mobile data security is still a main risk for smart phone and tablet applications. Enhanced security function is needed for protecting users’ privacy. The client side authentication can use combination of user name and password. In addition on the server side, server can use device’s unique ID to perform user identification. Last but not least, communication between client and server needs encryption for avoiding sniffing. Secondly, adding multi-user feature can make system more practical to real world scenario. Since several family members may want to use the same mobile device for recording their own vital signs data. Then the privacy between family members can be protected with multi-user functionality implemented. Thirdly, concerning the hospital usage, if a doctor wants to monitor a sudden change of individual patient, an alarm or a reminder in the system is necessary on the server. After the server receives data sent from the patients, it can compare the received data with previous records and then send an alarm or a reminder message to hospital or log this sudden change into the server document. Lastly, integrating sensor network and wearable device into system, can make data collection to be automatic, low-cost and convenient from user point of view. All these works are in the purpose of providing user a pleasing user experience and great user interaction, at the same time, persuading people embracing the benefits of new technology is quite important too. 32 9. References List of References Articles [1] KURNIAWAN, S. & ZAPHIRIS, P. 2005. Research-derived web design guidelines for older people. Proceedings of the 7th international ACM SIGACCESS conference on Computers and accessibility. Baltimore, MD, USA: ACM. [2] ANDERS, M. E. & EVANS, D. P. 2010. Comparison of PubMed and Google Scholar literature searches. Respir Care, 55, 578-83. [3] BOOTH, P., FRISCH, P. H. & MIODOWNIK, S. 2006. Application of RFID in an integrated healthcare environment. Conf Proc IEEE Eng Med Biol Soc, 1, 117-9. [4] D'ANGELO, L. T., SCHNEIDER, M., NEUGEBAUER, P. & LUETH, T. C. 2011. A sensor network to iPhone interface separating continuous and sporadic processes in mobile telemedicine. Conf Proc IEEE Eng Med Biol Soc, 31, 1528-31. [5] D'ANGELO, L. T., WEBER, S., HONDA, Y., THIEL, T., NARBONNEAU, F. & LUTH, T. C. 2008. A system for respiratory motion detection using optical fibers embedded into textiles. Conf Proc IEEE Eng Med Biol Soc, 7, 3694-7. [6] KUHN, K. A., WURST, S. H., BOTT, O. J. & GIUSE, D. A. 2006. Expanding the scope of health information systems. Challenges and developments. Yearb Med Inform , 43-52. [7] LANE, J. S., SANDBERG, W. S. & ROTHMAN, B. 2012. Development and implementation of an integrated mobile situational awareness iPhone application VigiVU(TM) at an academic medical center. Int J Comput Assist Radiol Surg, 7, 7. [8] MAIN, D. S., QUINTELA, J., ARAYA-GUERRA, R., HOLCOMB, S. & PACE, W. D. 2004. Exploring patient reactions to pen-tablet computers: a report from CaReNet. Ann Fam Med, 2, 421-4. [9] MORAK, J., SCHWETZ, V., HAYN, D., FRUHWALD, F. & SCHREIER, G. 2008. Electronic data capture platform for clinical research based on mobile phones and near field communication technology. Conf Proc IEEE Eng Med Biol Soc, 7, 5334-7. [10] ROSS, S. E., JOHNSON, K. B., SIEK, K. A., GORDON, J. S., KHAN, D. U. & HAVERHALS, L. M. 2011. Two complementary personal medication management applications developed on a common platform: case report. J Med Internet Res, 13. [11] RULAND, C. M., SLAUGHTER, L., STARREN, J., VATNE, T. M. & MOE, E. Y. 2007. Children's contributions to designing a communication tool for children with cancer. Stud Health Technol Inform, 129, 977-82. [12] TRIANTAFYLLIDIS, A., KOUTKIAS, V., CHOUVARDA, I. & MAGLAVERAS, N. 2008. An open and reconfigurable wireless sensor network for pervasive health monitoring. Methods Inf Med, 47, 229-34. [13] WICKS, A. M., VISICH, J. K. & LI, S. 2006. Radio frequency identification applications in hospital environments. Hosp Top, 84, 3-8. 33 [14] ALLEN, R. & WALES, M. (2011). Language War: PHP vs. Ruby (Electronic). Available: <http://net.tutsplus.com/articles/general/language-war-php-vs-ruby- 2/>(26-05-2012) . [15] CHROME DEVELOPERS. (2012). WHY HTML5 ROCKS (Electronic). Available: <http://www.html5rocks.com/en/why>(26-05-2012) . [16] FELDMAN, D. (2011). Comparing Mobile Web (HTML5) Frameworks: Sencha Touch, jQuery Mobile, jQTouch, Titanium (Electronic). Available: <http://operationproject.com/2011/adventures-in-html5-part- one/#.T7TQxdwtjAx>(26-05-2012) . [17] GOOGLE. (2012). Writing Style (Electronic). Available: <http://developer.android.com/design/style/writing.html>(26-05-2012) . [18] GORDONK66. (2011). Dojo Vs. ExtJS/Sencha (Electronic). Available: <http://bockuscentral.com/gordonbockus/?p=9>(26-05-2012) . [19] JIMINEZ, S. (2011). What makes Siri so different? She gets you (Electronic). Available: <http://tech.fortune.cnn.com/2011/11/17/what-makes-siri-so-different- she-gets-you/>(26-05-2012) . [20] KOHAN, B. (2011). PHP vs ASP.net Comparison (Electronic). Available: <http://www.comentum.com/php-vs-asp.net-comparison.html>(26-05-2012) . [21] THADANI, R. (2011). Advantages and Disadvantages of Bluetooth Technology (Electronic). Available: <http://www.buzzle.com/articles/advantages-and- disadvantages-of-bluetooth-technology.html>(27-05-2012) . [22] VIZNIAK, N. (2005). Vital Signs Table (Electronic). Available: <http://www.prohealthsys.com/physical/vital_signs_table.php>(26-05-2012) . [23] WIKIPEDIA CONTRIBUTORS. (2012). Blood pressure (Electronic). Available: <http://en.wikipedia.org/wiki/Blood_pressure#Measurement>(26-05-2012) . [24] WIKIPEDIA CONTRIBUTORS. (2012). Bluetooth low energy (Electronic). Available: <http://en.wikipedia.org/wiki/Bluetooth_low_energy>(27-05-2012) . [25] WIKIPEDIA CONTRIBUTORS. (2012). Dyspnea (Electronic). Available: <http://en.wikipedia.org/wiki/Dyspnea#Differential_diagnosis>(26-05-2012) . [26] WIKIPEDIA CONTRIBUTORS. (2012). Fever (Electronic). Available: <http://en.wikipedia.org/wiki/Fever>(26-05-2012) . [27] WIKIPEDIA CONTRIBUTORS. (2012). Hypertension (Electronic). Available: <http://en.wikipedia.org/wiki/High_blood_pressure>(26-05-2012) . [28] WIKIPEDIA CONTRIBUTORS. (2012). Hypotension (Electronic). Available: <http://en.wikipedia.org/wiki/Low_blood_pressure>(26-05-2012) . [29] WIKIPEDIA CONTRIBUTORS. (2012). Hypothermia (Electronic). Available: <http://en.wikipedia.org/wiki/Hypothermia>(26-05-2012) . [30] WIKIPEDIA CONTRIBUTORS. (2012). Respiratory rate (Electronic). Available: <http://en.wikipedia.org/wiki/Respiratory_rate>(26-05-2012) . [31] WIKIPEDIA CONTRIBUTORS. (2012). Tachypnea (Electronic). Available: <http://en.wikipedia.org/wiki/Tachypnea>(26-05-2012) . [32] WIKIPEDIA CONTRIBUTORS. (2012). Vital signs (Electronic). Available: <http://en.wikipedia.org/wiki/Vital_signs>(26-05-2012) . [33] ZIEVE, D., MD, MHA & ELTZ, D. R. (2012). Pulse (Electronic). Available: <http://www.nlm.nih.gov/medlineplus/ency/article/003399.htm>(26-05-2012) . 34 10. Enclosures Enclosure 1 Articles for literature review 1: Lane JS, Sandberg WS, Rothman B. Development and implementation of an integrated mobile situational awareness iPhone application VigiVU(TM) at an academic medical center. Int J Comput Assist Radiol Surg. 2012 Apr 7. [Epub ahead of print] PubMed PMID: 22484718. 2: Swan M. Crowdsourced health research studies: an important emerging complement to clinical trials in the public health research ecosystem. J Med Internet Res. 2012 Mar 7;14(2):e46. PubMed PMID: 22397809. 3: Halic T, Ahn W, De S. A framework for web browser-based medical simulation using WebGL. Stud Health Technol Inform. 2012;173:149-55. PubMed PMID: 22356977. 5: Debarba HG, Grandi J, Maciel A, Zanchet D. Anatomic hepatectomy planning through mobile display visualization and interaction. Stud Health Technol Inform. 2012;173:111-5. PubMed PMID: 22356969. 6: D'Angelo LT, Schneider M, Neugebauer P, Lueth TC. A sensor network to iPhone interface separating continuous and sporadic processes in mobile telemedicine. Conf Proc IEEE Eng Med Biol Soc. 2011;2011:1528-31. PubMed PMID: 22254611. 7: Alsos OA, Das A, Svan?s D. Mobile health IT: the effect of user interface and form factor on doctor-patient communication. Int J Med Inform. 2012 Jan;81(1):12-28. Epub 2011 Oct 13. PubMed PMID: 21996624. 8: Robertson C, Sawford K, Gunawardana WS, Nelson TA, Nathoo F, Stephen C. A hidden Markov model for analysis of frontline veterinary data for emerging zoonotic disease surveillance. PLoS One. 2011;6(9):e24833. Epub 2011 Sep 16. PubMed PMID: 21949763; PubMed Central PMCID: PMC3174964. 9: Memedi M, Westin J, Nyholm D, Dougherty M, Groth T. A web application for follow-up of results from a mobile device test battery for Parkinson's disease patients. Comput Methods Programs Biomed. 2011 Nov;104(2):219-26. Epub 2011 Aug 26. PubMed PMID: 21872355. 35 10: Holzinger A, Kosec P, Schwantzer G, Debevc M, Hofmann-Wellenhof R, Frühauf J. Design and development of a mobile computer application to reengineer workflows in the hospital and the methodology to evaluate its effectiveness. J Biomed Inform. 2011 Dec;44(6):968-77. Epub 2011 Jul 26. PubMed PMID: 21854873. 11: Ross SE, Johnson KB, Siek KA, Gordon JS, Khan DU, Haverhals LM. Two complementary personal medication management applications developed on a common platform: case report. J Med Internet Res. 2011 Jul 12;13(3):e45. PubMed PMID: 21749966; PubMed Central PMCID: PMC3222174. 12: Capozzi D, Lanzola G. A configurable home care platform for monitoring patients with reminder messaging and compliance tracking services. Stud Health Technol Inform. 2010;160(Pt 1):63-7. PubMed PMID: 20841651. 13: Hughes DC, Andrew A, Denning T, Hurvitz P, Lester J, Beresford S, Borriello G, Bruemmer B, Moudon AV, Duncan GE. BALANCE (Bioengineering Approaches for Lifestyle Activity and Nutrition Continuous Engagement): developing new technology for monitoring energy balance in real time. J Diabetes Sci Technol. 2010 Mar 1;4(2):429-34. PubMed PMID: 20307404; PubMed Central PMCID: PMC2864179. 14: Curran K, Nichols E, Xie E, Harper R. An intensive insulinotherapy mobile phone application built on artificial intelligence techniques. J Diabetes Sci Technol. 2010 Jan 1;4(1):209-20. PubMed PMID: 20167186; PubMed Central PMCID: PMC2825643. 15: de Sá M, Carri?o L. OmniSCOPE: composing universal therapies. Methods Inf Med. 2010;49(1):81-7. Epub 2009 Dec 8. PubMed PMID: 20011806. 16: Alsos OA, Dabelow B, Faxvaag A. Doctors' concerns of PDAs in the ward round situation. Lessons from a formative simulation study. Methods Inf Med. 2011;50(2):190-200. Epub 2009 Nov 5. PubMed PMID: 19893852. 17: Tejani N, Dresselhaus TR, Weinger MB. Development of a hand-held computer platform for real-time behavioral assessment of physicians and nurses. J Biomed Inform. 2010 Feb;43(1):75-80. Epub 2009 Aug 22. PubMed PMID: 19703586. 18: Scherr D, Kastner P, Kollmann A, Hallas A, Auer J, Krappinger H, Schuchlenz H, Stark G, Grander W, Jakl G, Schreier G, Fruhwald FM; MOBITEL Investigators. 36 Effect of home-based telemonitoring using mobile phone technology on the outcome of heart failure patients after an episode of acute decompensation: randomized controlled trial. J Med Internet Res. 2009 Aug 17;11(3):e34. PubMed PMID: 19687005; PubMed Central PMCID: PMC2762855. 19: De Vito Dabbs A, Myers BA, Mc Curry KR, Dunbar-Jacob J, Hawkins RP, Begey A, Dew MA. User-centered design and interactive health technologies for patients. Comput Inform Nurs. 2009 May-Jun;27(3):175-83. PubMed PMID: 19411947; PubMed Central PMCID: PMC2818536. 20: Morak J, Schwetz V, Hayn D, Fruhwald F, Schreier G. Electronic data capture platform for clinical research based on mobile phones and near field communication technology. Conf Proc IEEE Eng Med Biol Soc. 2008;2008:5334-7. PubMed PMID: 19163922. 21: D'Angelo LT, Weber S, Honda Y, Thiel T, Narbonneau F, Luth TC. A system for respiratory motion detection using optical fibers embedded into textiles. Conf Proc IEEE Eng Med Biol Soc. 2008;2008:3694-7. PubMed PMID: 19163514. 22: Ahtinen A, Mantyjarvi J, Hakkila J. Using heart rate monitors for personal wellness--the user experience perspective. Conf Proc IEEE Eng Med Biol Soc. 2008;2008:1591-7. PubMed PMID: 19162979. 23: Svanaes D, Alsos OA, Dahl Y. Usability testing of mobile ICT for clinical settings: methodological and practical challenges. Int J Med Inform. 2010 Apr;79(4):e24-34. Epub 2008 Sep 12. PubMed PMID: 18789753. 24: Silvey GM, Haga SB, O'Daniel JM, Deverka P, Ermentrout DM, Anstrom KJ, Lobach DF. Determining user preferences between touch and pen data entry methods in the Tablet PC computing environment. AMIA Annu Symp Proc. 2007 Oct 11:1115. PubMed PMID: 18694212. 25: Yenicesu I, Dilsiz G, Sucak G, Aki Z. BT-online: an innovated and promising computer assisted transfusion system. Med Sci Monit. 2008 Aug;14(8):MT21-6. PubMed PMID: 18668005. 26: Alsos OA. Attention and usability issues in mobile health information systems at point-of-care. Stud Health Technol Inform. 2008;136:877-8. PubMed PMID: 37 18487842. 27: Triantafyllidis A, Koutkias V, Chouvarda I, Maglaveras N. An open and reconfigurable wireless sensor network for pervasive health monitoring. Methods Inf Med. 2008;47(3):229-34. PubMed PMID: 18473089. 28: Laakko T, Lepp?nen J, L?hteenm?ki J, Nummiaho A. Mobile health and wellness application framework. Methods Inf Med. 2008;47(3):217-22. Review. PubMed PMID: 18473087. 29: Li BN, Fu BB, Dong MC. Development of a mobile pulse waveform analyzer for cardiovascular health monitoring. Comput Biol Med. 2008 Apr;38(4):438-45. Epub 2008 Mar 6. PubMed PMID: 18328471. 30: Buttussi F, Chittaro L. MOPET: a context-aware and user-adaptive wearable system for fitness training. Artif Intell Med. 2008 Feb;42(2):153-63. Epub 2008 Jan 30. PubMed PMID: 18234481. 31: Park S, Kim W, Ihm I. Mobile collaborative medical display system. Comput Methods Programs Biomed. 2008 Mar;89(3):248-60. Epub 2008 Jan 4. PubMed PMID: 18177976. 32: Ruland CM, Slaughter L, Starren J, Vatne TM, Moe EY. Children's contributions to designing a communication tool for children with cancer. Stud Health Technol Inform. 2007;129(Pt 2):977-82. PubMed PMID: 17911861. 33: Somoza KC, Momtahan K, Lindgaard G. Effects of a computerized cardiac teletriage decision support system on nurse performance: results of a controlled human factors experiment using a mid-fidelity prototype. Stud Health Technol Inform. 2007;129(Pt 1):97-101. PubMed PMID: 17911686. 34: Rigla M, Hernando ME, Gómez EJ, Brugués E, García-Sáez G, Torralba V, Prados A, Erdozain L, Vilaverde J, de Leiva A. A telemedicine system that includes a personal assistant improves glycemic control in pump-treated patients with type 1 diabetes. J Diabetes Sci Technol. 2007 Jul;1(4):505-10. PubMed PMID: 19885113; PubMed Central PMCID: PMC2769641. 35: Weiss DL, Siddiqui KM, Scopelliti J. Radiologist assessment of PACS user interface devices. J Am Coll Radiol. 2006 Apr;3(4):265-73. PubMed PMID: 17412058. 38 36: Silvey GM, Lobach DF, Macri JM, Hunt M, Kacmaz RO, Lee PP. User interface considerations for collecting data at the point of care in the tablet PC computing environment. AMIA Annu Symp Proc. 2006:1096. PubMed PMID: 17238715; PubMed Central PMCID: PMC1839574. 37: Kundu S, Mukherjee J, Majumdar AK, Majumdar B, Sekhar Ray S. Algorithms and heuristics for efficient medical information display in PDA. Comput Biol Med. 2007 Sep;37(9):1272-82. Epub 2007 Jan 12. PubMed PMID: 17222816. 38: Scandurra I, H?gglund M, Koch S. Visualisation and interaction design solutions to address specific demands in shared home care. Stud Health Technol Inform. 2006;124:71-6. PubMed PMID: 17108506. 39: Kuhn KA, Wurst SH, Bott OJ, Giuse DA. Expanding the scope of health information systems. Challenges and developments. Yearb Med Inform. 2006:43-52. Review. PubMed PMID: 17051294. 40: Morris TJ, Pajak J, Havlik F, Kenyon J, Calcagni D. Battlefield Medical Information System-Tactical (BMIST): the application of mobile computing technologies to support health surveillance in the Department of Defense. Telemed J E Health. 2006 Aug;12(4):409-16. PubMed PMID: 16942412. 41: Zafar A. A prototype user interface for a mobile electronic clinical note entry system. AMIA Annu Symp Proc. 2005:1165. PubMed PMID: 16779451; PubMed Central PMCID: PMC1560684. 42: Lee NJ, Starren J, Bakken S. A systematic review of user interface issues related to PDA-based decision support systems in health care. AMIA Annu Symp Proc. 2005:1021. Review. PubMed PMID: 16779308; PubMed Central PMCID: PMC1560828. 43: Ndiwane A. Teaching with the Nightingale Tracker technology in community-based nursing education: a pilot study. J Nurs Educ. 2005 Jan;44(1):40-2. PubMed PMID: 15673174. 44: Dahl Y, Sorby ID, Nytro ?. Context in care--requirements for mobile context-aware patient charts. Stud Health Technol Inform. 2004;107(Pt 1):597-601. PubMed PMID: 15360882. 45: Sanjo Y, Yokoyama T, Sato S, Ikeda K, Nakajima R. Ergonomic automated 39 anesthesia recordkeeper using a mobile touch screen with voice navigtion. J Clin Monit Comput. 1999 Aug;15(6):347-56. PubMed PMID: 12578030. 46: Siddiqui KM, Butcher RJ. Nuclear cardiology patient tracking using a palm-based device: methods and clinician satisfaction. J Digit Imaging. 2002;15 Suppl 1:242-5. Epub 2002 Mar 21. PubMed PMID: 12105741. 47: Kirste T, Lange M. A mobile system for recording examination data of the analysis of functional disorders of the masticatory system. Stud Health Technol Inform. 1998;52 Pt 1:112-6. PubMed PMID: 10384431. 40 Enclosure 2 Literature review records (Excel) 41 Enclosure 3 Abbreviations ASP - Active Server Pages BAN - Body area network CPU - Central processing unit CT - Computed tomography GPL - GNU General Public License GUI – Graphical user interface HTML5 - Hypertext Markup Language J2ME - Java 2 Platform, Micro Edition JSON - JavaScript Object Notation MBU – Mobile base unit NFC - Near field communication NTFS - New Technology File System from Microsoft OCR - Optical character recognition PHP - Hypertext Preprocessor RAM - Random access memory RFID - Radio-frequency identification SQL - Structured Query Language UDID - Unique device identification UI – User interface USB - Universal Serial Bus 42 Enclosure 4 GUI design Details about GUI design. (Distance: 1.0820441246032715)\n",
            "3: See discussions, st ats, and author pr ofiles f or this public ation at : https://www .researchgate.ne t/public ation/308850145 Patient vital signs monitoring via android application Conf erence Paper · Sept ember 2015 DOI: 10.1109/ICABME.2015.7323278 CITATIONS 16READS 962 5 author s, including: Some o f the author s of this public ation ar e also w orking on these r elat ed pr ojects: Biomedic al Technologies View pr oject Contr ol of a hy dro-electr omechanic al syst em View pr oject Roy Daou Univ ersité La Sag esse 101 PUBLICA TIONS 384 CITATIONS SEE PROFILE Elias Aad KU Leuven 2 PUBLICA TIONS 19 CITATIONS SEE PROFILE Farid Nakhle Americ an Univ ersity of Scienc e and T echnolog y 11 PUBLICA TIONS 73 CITATIONS SEE PROFILE All c ontent f ollo wing this p age was uplo aded b y Roy Daou on 04 May 2021. The user has r equest ed enhanc ement of the do wnlo aded file.Patient Vital Signs Monitoring via Android Application Roy ABI ZEID DAOU Lebanese German University, Public Health Faculty, Elias AAD, Farid NAKHLE Abstract —This paper presents a system that is able to monitor the patient vital signs (Heart Rate, SPO 2, NIBP, ECG, temperature and respiration rate) and send them continuously to the doctor’s android phone device. The system enables multiple patients to be connected t o the same doctor. Within the system, the health care professional may activ ate/deactivate any of the vital signs sensors. He can also set a prescription for the patient, schedule a meeting,… When bad activities are received, a message is directly sent to the doctor and to the patient relatives in order to alert them. Note that the Bluetooth connection is used to send/receive data between the patient platform and its android system. The tested results showed an almost error free system with an accuracy abov e 95% and a few milliseconds delay between the vital signs reading and their upload over the server. Keywords —telemedicine ; vital signs ; bluetooth connection ; real time monitoring I. INTRODUCTION Nowadays, telemedicine is one of the most increasing technolog y application applied to medical field because of the cost reduction it may offer and the full monitoring ability it insures [1] [2]. Even though it was launched by NASA in the mid 60’s of the previous century, the improvement in this domain remained slow until the start of the current century. With the development of highly sophisticated and fast communication tools, the real -time mo nitoring became accessible and the developed countries found a way, by using telemedicine, to reduce the huge bills they must pay for the health sector [3]. However, such system is still not popular in underdeveloped country as the required infrastructure is not ready to handle it [4]. The applications in telemedicine are diverse and go from a simple medical data transmission and processing between a patient and a health care professional to highly sophisticated devices u sed in surgeries as the DaV inci Robot [5] [6]. In fact, telemedicine usually take s control of the rehabilitation process and enable s the doctor or the medical staff to monitor the patient health remotely without its physical presence. Hence, a real -time transmission is needed with a minimal delay time between signal capturing from the patient side and the signal processing from the health care professional side. Hence, the prop osed work presents a novel application allowing a doctor to monitor his patient’s health anytime and anywhere via a communication protocol enabling a real time exchange of data of the patient’s main vital signs. As for the specifications of the system, it allows the measurement of six different parameters controllable by the medical doctor (Heart Rate, SPO2, NIBP, ECG, temperature and respiration rate) , generating a daily report, analyzing resul ts and notifying the concerned parties when a questionable situation is recognized. Added to that, the medical doctor can set for an appointment or prescribe a medication to the patient. Another important feature of this system is that it enables the conne ction of multiple patients that are monitored by the same health professional. Whenever misconduct is read from one of the sensor, the proposed system sends a direct notification to the medical doctor and to the patient’s relatives in order to alarm them of its critical condition. Hence, this paper will be divided as follow: in sect ion 2, the hardware system will be presented. The sensors deployed for the measurement of the six vital signs are proposed. In s ection 3 , the software part as well as the communication tools for data transmission are introduced . Section 4 shows the whole assembled system and some scenarios of its use. At the end, section 5 presents the conclusion of this work and proposes some future works. II. HARDWARE CONFIGURATIO N Four sensors were implemented in order to measure the patient’s vital signs. The sensors are controlled by a board, which is equipped by a Bluetooth module and a serial communication interface [7]. Figure 1 represents the block diagram of the whole system. a11 a22 3 a3 4 a4b1 b2 b3 b45 6 7 8Vcc10 GND 0STM32F103CT CT CT5 lead ECG Bluetooth connector Temperature sensorSpO2NIBP Power SupplySerial connector Figure 1 – Block diagram of the hardware system from the patient side From this system, one can notice the presence of the STTM32F103 processor as well as the following sensors:  Temperature sensor ranging from 20 °C to 45 °C;  Pulse Oximetry (SpO 2) ranging from 35 to 100 %;  5 lead ECG with a voltage ranging between 0.5mV and 5mV with up to 4000 samples/second/channel;  NIBP with a measurement range of 30mmHg -255mmHg for the systolic blood pressure and 15mmHg -220mmHg for the diastolic blood pressure; These sensors perform the following addition al measurements:  Heart rate measurement ranging from 20 to 300 BPM from the ECG and the SPO2 sensors;  Respiratory wave that uses the chest impedance measurement method from the ECG sensor with a sampling range reaching 100 SPM; Added to that, a power supp ly and a Bluetooth connect ion are embedded on this board. The latter part will be developed in more details in section 3. As for the signals processing and amplification, different filters were used, mainly for the ECG [8] [9] [10]. As the module could be connected to t he power line, a notch filter was a must . This notch filter wa s responsible to eliminate the noise generated by the sector line. In addition, the band pass filter was implemented in order to eliminate all frequencies lower than 0.5Hz or greater than 150Hz . Concerning the implementation of these filters, it can be done by software or by hardware. A hardware implementation may give better results but needs more time and costs more money. However, we have chosen to implement the notch filter along with a pre -amplification stage physical whereas for the band pass filter, the muscles movement noise and the s econd amplification stage, they are implemented within the code. III. SOFTWARE AND COMMUNIC ATION TOOLS This section will be divided into two parts: in the first one, the software running and handling all electrical/electronic sensors is presented whereas the second part deals with the communication tool s needs in order to keep the doctor updated with the evolution of his patients’ health. A. Software implementation The first part shows the connectivity hierarchy of this system. Once the data , coming from any of the connected sensors, is captured by the proc essor, it is sent, via the Bluetooth connector, to the patient device. It is then sent to a server that is accessible by the doctor. Figure 2 shows the block diagram of the connectivity hierarchy consisting of the patient, the health care professional and the patient’s relative . Note that this latter is found in this block diagram because an automatic message is generated when a mal -functionality is found in at least one of the patients ’ vital signs. Figure 2 – Block diagram of the connectivity hierarchy B. Communication tools As for the communication, two modes are allowed: the wireless communication via Bluetooth and the serial wired communication. The first module will be the primary communication method. Thus, it is mostly used as the data will be sent wirelessly to the patient mobile device before being transferred to the cloud. Different tools are used for t he control of the data transmission. Once the Bluetooth is connected, the mobile application ask s for the login credentials of the patient. Based on the patient’s identity , already stored on the server, the application fetches the appropriate information and commands related to it from the remote server. These information and commands are pre -configured by the doctor from his special control backend installed on his phone. Once this procedure is completed, selected modules will be enabled or disabled accordingly by sending the corresponding control orders to the board. In fact, the sensors will keep monit oring their specific parameters. H owever , only the required vital signs requested by the doctor are processed by the application and sent to the server. It is up to the processor of the board responding to the commands received to select the data to be sent. During the programming and in order to li mit congestion , only the required data by the doctor is sent from the patient side to the server. However, if the doctor doesn’t specify any data, all six vital signs are sent to the server and they are directly accessible by the doctor. Here, we must note that the data transmission speed differs from one sensor to the other depending on the size of the block to be sent and the expected changes in the vital sign over time. As the medical professional is the administrator of the system, he can access the da ta anytime and anywhere to view it, enable/disable any of the sensors, set a medication or a meeting and so on . The doctor can also change the parameters configuration or require a new reading. Once a change is capture from the doctor’s side , the board rec onfigures the enabled/disabled sensors, reads all the values and sends the required ones to the server. To sum up, figure 3 shows the flowchart containing the whole process starting from the login authentication till the data fetching within the server. Figure 3 – Software processing flow chart Concerning the health care professional backend , a cross platform application , developed for Android and IOS systems using PHP, was proposed. This program is installed on his phone and can be accessed from any web browser as well . It helps to offer full control over the patient’s device. Not only will the doctor be able to add prescriptions and view appointments, but he will also be able to request an on demand test for the patient in order to checkup on his c urrent health status. Added to that, the data history of every patient will be saved for easy and fast comparison between its current conditions and its previous ones. These tests’ r esults are saved , sorted and displayed by date and time. On another hand , up on patients’ approval, their data can be donated to universities and laboratories for medical studies and learning/teaching purposes. Figure 4 represents some screen shots of the application from the medical professional side. In fact, one can notice a screen shot to choose the patient, another one to read the values of the tests, a third one for the history, a fourth one containing the menu and the last one for the login authentication. Figure 4 – Screen shots of the application from the doctor sid e IV. ASSEMBLY TECHNICS In this fourth part, the downstream exchange and the upstream exchange technics will be presented. The downstream exchange presents the communication from the cloud to the board via the patient’s phone. The incoming and outgoing information exchanged with the board is partitioned into packages of hexadecimal bytes specific for each sensor and parameters required. The commands’ info packages sent by the phone to the board using the Bluetooth module are divided into 2 parts: 1. A package head set by default to 0X55 0XAA formed by 4 hexadecimal data sets; 2. A Data Package specific for each sensor to be activated or disabled form ed by 8 bits. This package starts with a characterizing bit to select the appropriate sensor needed. As for the upstream exchange, it represents the communication routing starting from the board to reach the cloud and being accessible by the doctor’s phone . Once all commands are applied, the board responds with information acquired from the sensors and, as already described, it sends the data in hexadecimal format but this time with different length depending on the activated sensor. The data info packages sent by the board to the phone using the Bluetooth module can be divided into two parts as follow: 1. A package head set by default to 0X55 0XAA formed by four hexadecimal data sets; 2. A Data Package specific for each sensor to be activated or disabled formed by 12 hexadecimal data sets. This package starts with a characterizing Bit to specify the parameter sent (ECG – NIPB – SPO 2 – Temp). Figure 5 – Top view of the system from the patient side V. CONCLUSION After presenting the proposed system from a hardware and software points of view, this part will list the features of the proposed system, will summarize the work done and will propose some future works. Concerning the system’s features, they can be resumed as follow:  Tasks to be done in emergency;  Capability of monitoring more than one patient by a single doc;  Light weight p ortable device ;  Safety measurements ; As for the summary, we have proposed a system that measures six vital signs of a patient and tr ansmit them to the doctor via a web server that can be accessible anytime and anywhere . The main vital signs (Heart Rate, SPO 2, NIBP, ECG, temperature and respiration rate) are captured on a board carried by the patient. Signals are being sent to the server in order to be accessible anyt ime/anywhere by the doctor. The latter can also enable/disable any of the sensors in real time. The medical history of the patient is also stored on the server and alarms for medications and further consultations are available options for the system. Conc erning the future works, lot of ideas can be implemented to enrich this system. As a start, adding the capability to store data while being offline and synchronizing it once the connection is reestablished in no time is of major concern. Another idea is to implement a video call between the doctor and his patient allowing a live consultation and diagnostic of the observed abnormalities. Added to that, a lower power consumption system would be designed allowing a better battery life to allow patients engage in longer time outdoor activities. REFERENCES [1] V. Garshnek and F. J. Burkle, \"Telemedicine applied to disaster medicine and humanitarian response: history and future,\" in 32nd Annual International Conference on Systems Sciences , Hawaii, 1999. [2] A. Martinez, V. Villarroel, J. Seoane and F. Pozo, \"Rural telemedicine for primary healthcare in developing countries,\" IEEE Technology and Society Magazine, vol. 23, no. 2, pp. 13 -22, 2004. [3] J. Kyedar, \"Success stories in Tele medicine: Some empirical evidence,\" Journal of Telemedicine, vol. 9, no. 1, 2003. [4] J. Puustjarvi and L. Puustjarvi, \"Designing a cloud - based multinational telemedicine ecosystem for developing countries,\" in IST-Africa Conference and Exhibition (IST -Africa) , Nairobi, 2013. [5] C. Iavazzo, X. -E. Gkegke, P. -E. Iavazzo and I. Gkegkes, \"Evolution of Robots Throughout History From Hephaestus to Da Vinci Robot,\" Acta Medico -Historica Adriatica, vol. 12, no. 2, pp. 247 -258, 2014. [6] M. Mărgăritescu, A. M. Eulampia Rolea and V. Văduva, \"Virtual Modeling of a Laparoscopic Surgical Robot with Hybrid Kinematics,\" Romanian Review Precision Mechanics, Optics & Mecatronics, no. 46, pp. 20 -24, 2014. [7] S. Kim, C. Brendle, H. -Y. Lee, M. Wa lter, S. Gloeggler, S. Krueger and S. Leonhardt, \"Evaluation of a 433 MHz Band Body Sensor Network for Biomedical Applications,\" Sensors, vol. 3, no. 1, pp. 898 -917, 2014. [8] W. Yubo , K. Veluvolu and L. Minho, \"Time -frequency analysis of band -limited EEG with BMFLC and Kalman filter for BCI applications,\" Journal of NeuroEngineering & Rehabilitation, vol. 10, no. 1, pp. 1-29, 2013. [9] J. Hogan, J. Kroger and J. Lakey, \"Time and Bandpass Limiting and an Application to EEG,\" Sampling Theory in Signal & Image Processing, vol. 13, no. 3, pp. 295 - 313, 2014. [10] B.-G. Lee, B. -L. Lee and C. Wan -Young, \"Mobile Healthcare for Automatic Driving Sleep -Onset Detection Using Wavelet -Based EEG and Respiration Signals,\" Sensors, vol. 14, no. 10, pp. 17915 -1793 6, 2014. View publication stats (Distance: 1.327071189880371)\n"
          ]
        }
      ]
    },
    {
      "cell_type": "code",
      "source": [
        "import gpt4all"
      ],
      "metadata": {
        "id": "k1kcFtQSkkRZ",
        "execution": {
          "iopub.status.busy": "2023-06-13T13:04:29.763106Z",
          "iopub.execute_input": "2023-06-13T13:04:29.763554Z",
          "iopub.status.idle": "2023-06-13T13:04:29.779878Z",
          "shell.execute_reply.started": "2023-06-13T13:04:29.763511Z",
          "shell.execute_reply": "2023-06-13T13:04:29.778297Z"
        },
        "trusted": true
      },
      "execution_count": 9,
      "outputs": []
    },
    {
      "cell_type": "code",
      "source": [
        "dir(gpt4all)"
      ],
      "metadata": {
        "colab": {
          "base_uri": "https://localhost:8080/"
        },
        "id": "2Vduc7y3ZPvK",
        "outputId": "8b2d3652-58d1-4c41-f2e4-fc3274953cfd"
      },
      "execution_count": 10,
      "outputs": [
        {
          "output_type": "execute_result",
          "data": {
            "text/plain": [
              "['CancellationError',\n",
              " 'Embed4All',\n",
              " 'GPT4All',\n",
              " '__builtins__',\n",
              " '__cached__',\n",
              " '__doc__',\n",
              " '__file__',\n",
              " '__loader__',\n",
              " '__name__',\n",
              " '__package__',\n",
              " '__path__',\n",
              " '__spec__',\n",
              " '_pyllmodel',\n",
              " 'gpt4all']"
            ]
          },
          "metadata": {},
          "execution_count": 10
        }
      ]
    },
    {
      "cell_type": "code",
      "source": [
        "from gpt4all import GPT4All"
      ],
      "metadata": {
        "id": "H3QAPeGfZTC1"
      },
      "execution_count": 11,
      "outputs": []
    },
    {
      "cell_type": "code",
      "source": [
        "from gpt4all import GPT4All\n",
        "model = GPT4All(\"Meta-Llama-3-8B-Instruct.Q4_0.gguf\") # downloads / loads a 4.66GB LLM\n",
        "with model.chat_session():\n",
        "    print(model.generate(\"How can I run LLMs efficiently on my laptop?\", max_tokens=1024))"
      ],
      "metadata": {
        "colab": {
          "base_uri": "https://localhost:8080/"
        },
        "collapsed": true,
        "id": "WTf9KiSSZXJm",
        "outputId": "c12796ed-0339-42da-c25b-0e474314df59"
      },
      "execution_count": 13,
      "outputs": [
        {
          "output_type": "stream",
          "name": "stderr",
          "text": [
            "Downloading: 100%|██████████| 4.66G/4.66G [09:43<00:00, 7.99MiB/s]\n",
            "Verifying: 100%|██████████| 4.66G/4.66G [00:21<00:00, 212MiB/s]\n"
          ]
        },
        {
          "output_type": "stream",
          "name": "stdout",
          "text": [
            "Large Language Models (LLMs) are powerful AI models that require significant computational resources to train and use. Running them efficiently on your laptop requires a combination of hardware, software, and optimization techniques. Here's a comprehensive guide to help you get started:\n",
            "\n",
            "**Hardware Requirements:**\n",
            "\n",
            "1. **CPU:** A multi-core CPU is essential for parallel processing. Look for at least 4-6 cores (e.g., Intel Core i7 or AMD Ryzen 5).\n",
            "2. **GPU:** A dedicated graphics card can significantly accelerate computations. Consider a mid-range to high-end GPU like NVIDIA GeForce GTX 1660 Ti, RTX 2060, or AMD Radeon RX 5600 XT.\n",
            "3. **RAM:** Ensure you have at least 16 GB of RAM (32 GB or more is recommended).\n",
            "4. **Storage:** A fast SSD (solid-state drive) can improve loading times and overall performance.\n",
            "\n",
            "**Software Requirements:**\n",
            "\n",
            "1. **Python:** LLMs are typically implemented in Python, so ensure you have a compatible version installed.\n",
            "2. **LLM Framework:** Choose an LLM framework like Hugging Face's Transformers or PyTorch-Transformers to simplify model development and deployment.\n",
            "3. **TensorFlow or PyTorch:** Familiarize yourself with either TensorFlow or PyTorch, as these are commonly used for deep learning tasks.\n",
            "\n",
            "**Optimization Techniques:**\n",
            "\n",
            "1. **Batching:** Process data in batches to reduce the number of computations required per iteration.\n",
            "2. **Gradient Accumulation:** Use gradient accumulation techniques (e.g., gradient clipping) to stabilize training and reduce memory usage.\n",
            "3. **Model Pruning:** Remove unnecessary weights or neurons from your model to reduce computational requirements.\n",
            "4. **Mixed Precision Training:** Train models using mixed precision arithmetic, which combines floating-point numbers with lower-precision data types for faster computations.\n",
            "\n",
            "**Additional Tips:**\n",
            "\n",
            "1. **Use a Cloud Service:** Consider leveraging cloud services like Google Colab, AWS SageMaker, or Azure Machine Learning Studio to access more powerful hardware and accelerate your training process.\n",
            "2. **Distributed Training:** Utilize distributed training techniques (e.g., Horovod) to scale up computations across multiple machines or GPUs.\n",
            "3. **Model Compression:** Compress models using techniques like quantization or knowledge distillation to reduce their size and improve inference speed.\n",
            "\n",
            "**Example LLMs for Efficient Running:**\n",
            "\n",
            "1. **BERT-Base:** A popular, relatively lightweight model suitable for laptops (around 340 million parameters).\n",
            "2. **DistilBERT:** A smaller, more efficient version of BERT with around 60 million parameters.\n",
            "3. **T5-Small:** A compact transformer-based language model with approximately 22 million parameters.\n",
            "\n",
            "Remember to carefully evaluate your specific use case and requirements before selecting an LLM for running on your laptop. Happy training!\n"
          ]
        }
      ]
    },
    {
      "cell_type": "code",
      "source": [
        "def generate_answer(query, context):\n",
        "    \"\"\"\n",
        "    Generate an AI answer based on the query and document context using GPT4All.\n",
        "    \"\"\"\n",
        "    # Create a chat session\n",
        "    with model.chat_session() as session:\n",
        "        # Generate the response\n",
        "        prompt = f\"Query: {query}\\nContext: {context}\"\n",
        "        response = session.generate(prompt, max_tokens=1024)\n",
        "        return response.strip()\n",
        "\n",
        "# Example query and context\n",
        "query = \"How does a real-time human vital signs monitoring system work?\"\n",
        "context = \"A real-time human vital signs monitoring system captures and analyzes physiological data.\"\n",
        "\n",
        "# Generate the answer\n",
        "answer = generate_answer(query, context)\n",
        "print(\"Generated Answer:\", answer)"
      ],
      "metadata": {
        "colab": {
          "base_uri": "https://localhost:8080/"
        },
        "id": "ptgAL1vFZZ7I",
        "outputId": "a916b5b5-f09e-4a8c-873c-80ffd409c11a"
      },
      "execution_count": 14,
      "outputs": [
        {
          "output_type": "stream",
          "name": "stdout",
          "text": [
            "Generated Answer: A real-time human vital signs monitoring system is designed to continuously capture, analyze, and display physiological data from an individual's body. Here's how it typically works:\n",
            "\n",
            "**Data Acquisition**\n",
            "\n",
            "1. **Sensors**: The system uses various sensors to collect physiological data, such as:\n",
            "\t* Electrocardiogram (ECG) electrodes for heart rate and rhythm monitoring.\n",
            "\t* Pulse oximetry sensors for oxygen saturation and pulse rate measurement.\n",
            "\t* Blood pressure cuffs or arterial lines for blood pressure monitoring.\n",
            "\t* Temperature probes for body temperature measurement.\n",
            "2. **Data transmission**: The sensor data is transmitted to a central processing unit (CPU), such as a computer, tablet, or smartphone.\n",
            "\n",
            "**Real-time Processing**\n",
            "\n",
            "1. **Signal conditioning**: The CPU processes the raw sensor data by amplifying, filtering, and calibrating it to ensure accurate readings.\n",
            "2. **Algorithmic analysis**: Advanced algorithms are applied to analyze the processed data in real-time, allowing for:\n",
            "\t* Heart rate variability (HRV) monitoring.\n",
            "\t* Blood pressure trending.\n",
            "\t* Oxygen saturation tracking.\n",
            "3. **Alert generation**: The system can generate alerts or notifications based on predefined thresholds or abnormal patterns detected in the physiological data.\n",
            "\n",
            "**Display and Storage**\n",
            "\n",
            "1. **Real-time display**: The processed data is displayed in real-time, providing healthcare professionals with immediate access to vital signs information.\n",
            "2. **Data storage**: The system stores the collected data for later review, analysis, and trend monitoring.\n",
            "\n",
            "**Additional Features**\n",
            "\n",
            "Some advanced systems may include:\n",
            "\n",
            "* **Machine learning**: To identify patterns and predict potential health issues based on historical data and current trends.\n",
            "* **Integration with electronic health records (EHRs)**: For seamless sharing of vital signs information between healthcare providers.\n",
            "* **Remote access**: Allowing remote monitoring and real-time updates for patients, caregivers, or healthcare professionals.\n",
            "\n",
            "Real-time human vital signs monitoring systems are used in various settings, including:\n",
            "\n",
            "1. Hospitals and clinics\n",
            "2. Long-term care facilities (e.g., nursing homes)\n",
            "3. Home health care environments\n",
            "4. Military and emergency response situations\n",
            "\n",
            "These systems can help improve patient outcomes by enabling early detection of potential health issues, reducing the risk of adverse events, and enhancing overall healthcare decision-making.\n"
          ]
        }
      ]
    }
  ]
}